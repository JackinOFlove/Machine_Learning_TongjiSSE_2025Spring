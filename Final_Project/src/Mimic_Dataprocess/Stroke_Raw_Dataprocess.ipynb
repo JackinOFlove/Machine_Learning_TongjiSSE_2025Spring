{
 "cells": [
  {
   "cell_type": "code",
   "execution_count": 1,
   "metadata": {},
   "outputs": [
    {
     "name": "stdout",
     "output_type": "stream",
     "text": [
      "Filtered data saved to output/Stroke_Patients.csv\n",
      "Stroke patients: 17287\n"
     ]
    }
   ],
   "source": [
    "import pandas as pd\n",
    "from tqdm import tqdm\n",
    "import os\n",
    "\n",
    "# 定义与中风相关的 ICD 代码\n",
    "stroke_icd_codes = [\n",
    "    # ICD-10 相关代码\n",
    "    'I60', 'I61', 'I62', 'I63', 'I65', 'I66',  # 非创伤性蛛网膜下腔出血、脑内出血等\n",
    "    'I603', 'I604', 'I605', 'I606', 'I607', 'I608', 'I609',  # 其他相关的蛛网膜下腔出血\n",
    "    'I620', 'I6200', 'I6201', 'I6202', 'I6203',  # 硬膜下出血\n",
    "    'I621',  # 硬膜外出血\n",
    "    'I62',  # 其他和未特指的非创伤性颅内出血\n",
    "    'I63', 'I630', 'I6300', 'I6301', 'I6302', 'I6303', 'I631', 'I6310', 'I6311', 'I6312', 'I6313',  # 脑梗塞相关代码\n",
    "    'I634', 'I6340', 'I6341', 'I6342', 'I6343',  # 脑栓塞相关代码\n",
    "    'I635', 'I6350', 'I6351', 'I6352', 'I6353',  # 脑动脉闭塞和狭窄\n",
    "    'I636', 'I638', 'I639',  # 其他脑梗塞\n",
    "    'G45', 'G450', 'G451', 'G452', 'G453', 'G454', 'G458', 'G459',  # 短暂性脑缺血发作相关综合症\n",
    "\n",
    "    # ICD-9 相关代码\n",
    "    '430', '431', '4320', '4321', '4329',  # 蛛网膜下腔出血、脑内出血等\n",
    "    '43300', '43301', '43310', '43311', '43320', '43321', '43330', '43331',  # 动脉闭塞和狭窄\n",
    "    '43380', '43381', '43390', '43391',  # 其他动脉闭塞\n",
    "    '43400', '43401', '43410', '43411',  # 脑血栓和脑栓塞\n",
    "    '43490', '43491',  # 未特指的脑动脉闭塞\n",
    "    '4350', '4351', '4352', '4353', '4358', '4359',  # 短暂性脑缺血\n",
    "    '436'  # 急性但未明确的脑血管疾病\n",
    "]\n",
    "\n",
    "# 读取 CSV 文件\n",
    "input_file_path = '../diagnoses_icd.csv' \n",
    "output_file_path = 'output/Stroke_Patients.csv'  # 输出文件路径\n",
    "\n",
    "os.makedirs(os.path.dirname(output_file_path), exist_ok=True)\n",
    "\n",
    "# 显示进度条\n",
    "tqdm.pandas(desc=\"Filtering stroke patients\")\n",
    "\n",
    "# 分块读取数据\n",
    "chunk_size = 10000  \n",
    "filtered_chunks = []  \n",
    "\n",
    "for chunk in pd.read_csv(input_file_path, chunksize=chunk_size):\n",
    "    # 过滤出与中风相关的 ICD 代码\n",
    "    filtered_chunk = chunk[chunk['icd_code'].astype(str).isin(stroke_icd_codes)]\n",
    "    filtered_chunks.append(filtered_chunk)\n",
    "\n",
    "# 合并所有过滤后的数据块\n",
    "filtered_df = pd.concat(filtered_chunks, ignore_index=True)\n",
    "result_df = filtered_df[['subject_id', 'hadm_id', 'icd_code', 'icd_version']]\n",
    "\n",
    "result_df.to_csv(output_file_path, index=False)\n",
    "print(f\"Filtered data saved to {output_file_path}\")\n",
    "\n",
    "# 打印中风病人的数量\n",
    "print(f\"Stroke patients: {result_df.shape[0]}\")"
   ]
  },
  {
   "cell_type": "code",
   "execution_count": 2,
   "metadata": {},
   "outputs": [
    {
     "name": "stdout",
     "output_type": "stream",
     "text": [
      "Stroke_ICU.csv 文件已保存到 output\\Stroke_ICU.csv\n"
     ]
    }
   ],
   "source": [
    "import pandas as pd\n",
    "import os\n",
    "\n",
    "# 读取中风病人信息\n",
    "stroke_patient_info = pd.read_csv(os.path.join('output', 'Stroke_Patients.csv'))\n",
    "\n",
    "# 读取 icustays.csv 文件\n",
    "icu_stay_data = pd.DataFrame()\n",
    "chunksize = 100000\n",
    "\n",
    "# 分块读取 icustays.csv\n",
    "for chunk in pd.read_csv('../icustays.csv', chunksize=chunksize):\n",
    "    # 根据 subject_id 和 hadm_id 进行连接\n",
    "    merged_chunk = pd.merge(stroke_patient_info, chunk, on=['subject_id', 'hadm_id'], how='inner')\n",
    "    \n",
    "    # 提取所需字段并添加到结果 DataFrame\n",
    "    icu_stay_data = pd.concat([icu_stay_data, merged_chunk[['subject_id', 'hadm_id', 'stay_id', 'intime', 'outtime', 'los']]], ignore_index=True)\n",
    "\n",
    "# 保存结果到 Stroke_ICU.csv\n",
    "output_folder = \"output\"\n",
    "output_file_path_strokeicu = os.path.join(output_folder, 'Stroke_ICU.csv')\n",
    "icu_stay_data.to_csv(output_file_path_strokeicu, index=False)\n",
    "\n",
    "print(f\"Stroke_ICU.csv 文件已保存到 {output_file_path_strokeicu}\")"
   ]
  },
  {
   "cell_type": "code",
   "execution_count": 4,
   "metadata": {},
   "outputs": [
    {
     "name": "stdout",
     "output_type": "stream",
     "text": [
      "Stroke_ICU_First_30.csv 文件已保存到 output\\Stroke_ICU_First_30.csv\n"
     ]
    }
   ],
   "source": [
    "import pandas as pd\n",
    "import os\n",
    "\n",
    "# 读取 Stroke_ICU.csv 文件\n",
    "icu_stay_data = pd.read_csv(os.path.join('output', 'Stroke_ICU.csv'))\n",
    "\n",
    "# 保留首次住院 ICU 的病人记录\n",
    "icu_stay_data_first = icu_stay_data.drop_duplicates(subset='subject_id', keep='first')\n",
    "\n",
    "# 删除 los 字段小于 30 的记录\n",
    "icu_stay_data_first_30 = icu_stay_data_first[icu_stay_data_first['los'] <= 30]\n",
    "\n",
    "# 保存结果到 Stroke_ICU_First_30.csv\n",
    "output_file_path_strokeicu_first_30 = os.path.join('output', 'Stroke_ICU_First_30.csv')\n",
    "icu_stay_data_first_30.to_csv(output_file_path_strokeicu_first_30, index=False)\n",
    "\n",
    "print(f\"Stroke_ICU_First_30.csv 文件已保存到 {output_file_path_strokeicu_first_30}\")"
   ]
  },
  {
   "cell_type": "code",
   "execution_count": 5,
   "metadata": {},
   "outputs": [
    {
     "name": "stderr",
     "output_type": "stream",
     "text": [
      "Calculating age and filtering patients: 100%|██████████| 5818/5818 [00:00<00:00, 108246.59it/s]"
     ]
    },
    {
     "name": "stdout",
     "output_type": "stream",
     "text": [
      "Stroke_Age_Gender.csv 文件已保存到 output\\Stroke_Age_Gender.csv\n"
     ]
    },
    {
     "name": "stderr",
     "output_type": "stream",
     "text": [
      "\n"
     ]
    }
   ],
   "source": [
    "import pandas as pd\n",
    "import os\n",
    "from tqdm import tqdm\n",
    "\n",
    "# 读取 Stroke_ICU_First_30.csv 文件\n",
    "icu_stay_data = pd.read_csv(os.path.join('output', 'Stroke_ICU_First_30.csv'))\n",
    "\n",
    "# 读取 patients.csv 文件\n",
    "patients_data = pd.read_csv('../patients.csv')\n",
    "\n",
    "# 计算进入 ICU 时的年龄并添加性别字段\n",
    "def calculate_age(row):\n",
    "    # 计算年龄\n",
    "    age = row['anchor_age'] + row['intime_year'] - row['anchor_year']\n",
    "    return age\n",
    "\n",
    "# 添加年份字段\n",
    "icu_stay_data['intime_year'] = pd.to_datetime(icu_stay_data['intime']).dt.year\n",
    "\n",
    "tqdm.pandas(desc=\"Calculating age and filtering patients\")\n",
    "\n",
    "merged_data = pd.merge(icu_stay_data, patients_data, on='subject_id', how='inner')\n",
    "merged_data['age'] = merged_data.progress_apply(calculate_age, axis=1)\n",
    "\n",
    "# 筛选年龄在 18 到 89 岁之间的记录\n",
    "filtered_data = merged_data[(merged_data['age'] >= 18) & (merged_data['age'] <= 89)]\n",
    "\n",
    "final_data = filtered_data[['subject_id', 'hadm_id', 'stay_id', 'intime', 'outtime', 'los', 'age', 'gender']]\n",
    "\n",
    "output_file_path_stroke_age_gender = os.path.join('output', 'Stroke_Age_Gender.csv')\n",
    "final_data.to_csv(output_file_path_stroke_age_gender, index=False)\n",
    "\n",
    "print(f\"Stroke_Age_Gender.csv 文件已保存到 {output_file_path_stroke_age_gender}\")"
   ]
  },
  {
   "cell_type": "code",
   "execution_count": 3,
   "metadata": {},
   "outputs": [
    {
     "name": "stderr",
     "output_type": "stream",
     "text": [
      "Processing chartevents.csv: 100%|██████████| 432997491/432997491 [17:39<00:00, 408746.08it/s]\n"
     ]
    }
   ],
   "source": [
    "# Targets\n",
    "import pandas as pd\n",
    "from tqdm import tqdm\n",
    "\n",
    "# 定义要保留的 itemid 列表\n",
    "itemid_list = [\n",
    "    220051, 220045, 220050, 220052, 225624, 220621, 220210, 226540, 223761,\n",
    "    220228, 227428, 227073, 220277, 227457, 220615, 220546, 227467, 227442,\n",
    "    220645, 227465, 220602, 227443, 227466, 220224, 220235, 224828\n",
    "]\n",
    "\n",
    "# 读取 Stroke_Age_Gender.csv 中的 subject_id\n",
    "stroke_df = pd.read_csv('output/Stroke_Age_Gender.csv', usecols=['subject_id'])\n",
    "stroke_subject_ids = set(stroke_df['subject_id'])\n",
    "\n",
    "# 初始化一个空的 DataFrame 来存储结果\n",
    "filtered_data = pd.DataFrame()\n",
    "\n",
    "# 分块读取 chartevents.csv\n",
    "chunk_size = 100000  # 根据需要调整块大小\n",
    "total_rows = sum(1 for _ in open('../chartevents.csv')) - 1  # 计算总行数，减去标题行\n",
    "with tqdm(total=total_rows, desc=\"Processing chartevents.csv\") as pbar:\n",
    "    for chunk in pd.read_csv('../chartevents.csv', chunksize=chunk_size):\n",
    "        # 过滤条件：subject_id 在 stroke_subject_ids 中，且 itemid 在 itemid_list 中\n",
    "        filtered_chunk = chunk[\n",
    "            (chunk['subject_id'].isin(stroke_subject_ids)) &\n",
    "            (chunk['itemid'].isin(itemid_list))\n",
    "        ]\n",
    "        # 将过滤后的数据追加到结果 DataFrame\n",
    "        filtered_data = pd.concat([filtered_data, filtered_chunk], ignore_index=True)\n",
    "        # 更新进度条\n",
    "        pbar.update(len(chunk))\n",
    "\n",
    "# 将结果保存到 Targets_Raw.csv\n",
    "filtered_data.to_csv('output/Targets_Raw.csv', index=False)"
   ]
  },
  {
   "cell_type": "code",
   "execution_count": 4,
   "metadata": {},
   "outputs": [
    {
     "name": "stderr",
     "output_type": "stream",
     "text": [
      "Processing chartevents.csv: 100%|██████████| 432997491/432997491 [31:21<00:00, 230128.91it/s]\n"
     ]
    }
   ],
   "source": [
    "# Goals\n",
    "import pandas as pd\n",
    "from tqdm import tqdm\n",
    "\n",
    "# 定义要保留的 itemid 列表\n",
    "itemid_list = [\n",
    "   220739, 223900, 223901\n",
    "]\n",
    "\n",
    "# 读取 Stroke_Age_Gender.csv 中的 subject_id\n",
    "stroke_df = pd.read_csv('output/Stroke_Age_Gender.csv', usecols=['subject_id'])\n",
    "stroke_subject_ids = set(stroke_df['subject_id'])\n",
    "\n",
    "# 初始化一个空的 DataFrame 来存储结果\n",
    "filtered_data = pd.DataFrame()\n",
    "\n",
    "# 分块读取 chartevents.csv\n",
    "chunk_size = 100000  # 根据需要调整块大小\n",
    "total_rows = sum(1 for _ in open('../chartevents.csv')) - 1  # 计算总行数，减去标题行\n",
    "with tqdm(total=total_rows, desc=\"Processing chartevents.csv\") as pbar:\n",
    "    for chunk in pd.read_csv('../chartevents.csv', chunksize=chunk_size):\n",
    "        # 过滤条件：subject_id 在 stroke_subject_ids 中，且 itemid 在 itemid_list 中\n",
    "        filtered_chunk = chunk[\n",
    "            (chunk['subject_id'].isin(stroke_subject_ids)) &\n",
    "            (chunk['itemid'].isin(itemid_list))\n",
    "        ]\n",
    "        # 将过滤后的数据追加到结果 DataFrame\n",
    "        filtered_data = pd.concat([filtered_data, filtered_chunk], ignore_index=True)\n",
    "        # 更新进度条\n",
    "        pbar.update(len(chunk))\n",
    "\n",
    "# 将结果保存到 Goals_Raw.csv\n",
    "filtered_data.to_csv('output/Goals_Raw.csv', index=False)"
   ]
  },
  {
   "cell_type": "code",
   "execution_count": 5,
   "metadata": {},
   "outputs": [
    {
     "name": "stderr",
     "output_type": "stream",
     "text": [
      "Merging data: 100%|██████████| 5418324/5418324 [01:07<00:00, 80790.65it/s] \n"
     ]
    },
    {
     "name": "stdout",
     "output_type": "stream",
     "text": [
      "Targets_with_Info.csv 文件已保存到 output/Targets_with_Info.csv\n"
     ]
    }
   ],
   "source": [
    "import pandas as pd\n",
    "from tqdm import tqdm\n",
    "\n",
    "# 读取 Stroke_Age_Gender.csv 文件\n",
    "stroke_age_gender_data = pd.read_csv('output/Stroke_Age_Gender.csv', usecols=['subject_id', 'intime', 'age', 'gender'])\n",
    "\n",
    "# 初始化一个空的 DataFrame 来存储结果\n",
    "final_data = pd.DataFrame()\n",
    "\n",
    "# 分块读取 Targets_Raw.csv\n",
    "chunk_size = 10000  # 根据需要调整块大小\n",
    "total_rows = sum(1 for _ in open('output/Targets_Raw.csv')) - 1  # 计算总行数，减去标题行\n",
    "with tqdm(total=total_rows, desc=\"Merging data\") as pbar:\n",
    "    for chunk in pd.read_csv('output/Targets_Raw.csv', chunksize=chunk_size):\n",
    "        # 合并数据，添加 intime、age 和 gender 列\n",
    "        merged_chunk = pd.merge(chunk, stroke_age_gender_data, on='subject_id', how='left')\n",
    "        # 选择需要的列\n",
    "        merged_chunk = merged_chunk[['subject_id', 'hadm_id', 'stay_id', 'charttime', 'itemid', 'value', 'valuenum', 'valueuom', 'intime', 'age', 'gender']]\n",
    "        # 将合并后的数据追加到结果 DataFrame\n",
    "        final_data = pd.concat([final_data, merged_chunk], ignore_index=True)\n",
    "        # 更新进度条\n",
    "        pbar.update(len(chunk))\n",
    "\n",
    "# 保存结果到 Targets_with_Info.csv\n",
    "output_file_path_targets_with_info = 'output/Targets_with_Info.csv'\n",
    "final_data.to_csv(output_file_path_targets_with_info, index=False)\n",
    "\n",
    "print(f\"Targets_with_Info.csv 文件已保存到 {output_file_path_targets_with_info}\")"
   ]
  },
  {
   "cell_type": "code",
   "execution_count": 8,
   "metadata": {},
   "outputs": [
    {
     "name": "stderr",
     "output_type": "stream",
     "text": [
      "Calculating tags: 100%|██████████| 5418324/5418324 [00:36<00:00, 148019.11it/s]\n"
     ]
    },
    {
     "name": "stdout",
     "output_type": "stream",
     "text": [
      "Targets_with_Tag.csv 文件已保存到 output/Targets_with_Tag.csv\n"
     ]
    }
   ],
   "source": [
    "import pandas as pd\n",
    "from tqdm import tqdm\n",
    "\n",
    "# 读取 Targets_with_Info.csv 文件\n",
    "targets_with_info = pd.read_csv('output/Targets_with_Info.csv')\n",
    "\n",
    "# 读取 Stroke_Normal_Data.csv 文件\n",
    "normal_data = pd.read_csv('output/Stroke_Normal_Data.csv')\n",
    "\n",
    "# 创建一个字典来快速查找正常范围\n",
    "normal_ranges = normal_data.set_index('itemid').T.to_dict()\n",
    "\n",
    "# 定义一个函数来计算 tag\n",
    "def calculate_tag(row):\n",
    "    itemid = row['itemid']\n",
    "    value = row['value']\n",
    "    gender = row['gender']\n",
    "    \n",
    "    if itemid in normal_ranges:\n",
    "        if gender == 'M':\n",
    "            low, high = normal_ranges[itemid]['M_low'], normal_ranges[itemid]['M_high']\n",
    "        else:\n",
    "            low, high = normal_ranges[itemid]['F_low'], normal_ranges[itemid]['F_high']\n",
    "        \n",
    "        if low <= value <= high:\n",
    "            return 'Normal'\n",
    "        elif value < low:\n",
    "            return 'Low'\n",
    "        else:\n",
    "            return 'High'\n",
    "    return 'unknown'\n",
    "\n",
    "# 使用 tqdm 显示进度条\n",
    "tqdm.pandas(desc=\"Calculating tags\")\n",
    "\n",
    "# 计算 tag 列\n",
    "targets_with_info['tag'] = targets_with_info.progress_apply(calculate_tag, axis=1)\n",
    "\n",
    "# 过滤出 tag 不为 Normal 的行\n",
    "filtered_targets = targets_with_info[targets_with_info['tag'] != 'Normal']\n",
    "\n",
    "# 保存结果到 Targets_with_Tag.csv\n",
    "output_file_path_targets_with_tag = 'output/Targets_with_Tag.csv'\n",
    "filtered_targets.to_csv(output_file_path_targets_with_tag, index=False)\n",
    "\n",
    "print(f\"Targets_with_Tag.csv 文件已保存到 {output_file_path_targets_with_tag}\")"
   ]
  },
  {
   "cell_type": "code",
   "execution_count": 9,
   "metadata": {},
   "outputs": [
    {
     "name": "stderr",
     "output_type": "stream",
     "text": [
      "Calculating events and times: 100%|██████████| 2051936/2051936 [00:11<00:00, 182151.50it/s]\n",
      "Calculating events and times: 100%|██████████| 2051936/2051936 [19:28<00:00, 1755.73it/s]\n"
     ]
    },
    {
     "name": "stdout",
     "output_type": "stream",
     "text": [
      "Targets_All.csv 文件已保存到 output/Targets_All.csv\n"
     ]
    }
   ],
   "source": [
    "import pandas as pd\n",
    "from tqdm import tqdm\n",
    "\n",
    "# 读取 Targets_with_Tag.csv 文件\n",
    "targets_with_tag = pd.read_csv('output/Targets_with_Tag.csv')\n",
    "\n",
    "# 读取 Stroke_Normal_Data.csv 文件\n",
    "normal_data = pd.read_csv('output/Stroke_Normal_Data.csv')\n",
    "\n",
    "# 创建一个字典来快速查找 label\n",
    "label_dict = normal_data.set_index('itemid')['label'].to_dict()\n",
    "\n",
    "# 定义一个函数来计算 event\n",
    "def calculate_event(row):\n",
    "    itemid = row['itemid']\n",
    "    tag = row['tag']\n",
    "    \n",
    "    if itemid in label_dict:\n",
    "        label = label_dict[itemid]\n",
    "        return f\"{label} {tag}\"\n",
    "    return 'unknown'\n",
    "\n",
    "# 定义一个函数来计算 time\n",
    "def calculate_time(row):\n",
    "    charttime = pd.to_datetime(row['charttime'])\n",
    "    intime = pd.to_datetime(row['intime'])\n",
    "    time_diff = charttime - intime\n",
    "    return time_diff.total_seconds() / 3600  # 转换为小时\n",
    "\n",
    "# 使用 tqdm 显示进度条\n",
    "tqdm.pandas(desc=\"Calculating events and times\")\n",
    "\n",
    "# 计算 event 列\n",
    "targets_with_tag['event'] = targets_with_tag.progress_apply(calculate_event, axis=1)\n",
    "\n",
    "# 计算 time 列\n",
    "targets_with_tag['time'] = targets_with_tag.progress_apply(calculate_time, axis=1)\n",
    "\n",
    "# 保存结果到 Targets_All.csv\n",
    "output_file_path_targets_all = 'output/Targets_All.csv'\n",
    "targets_with_tag.to_csv(output_file_path_targets_all, index=False)\n",
    "\n",
    "print(f\"Targets_All.csv 文件已保存到 {output_file_path_targets_all}\")"
   ]
  },
  {
   "cell_type": "code",
   "execution_count": 12,
   "metadata": {},
   "outputs": [
    {
     "name": "stdout",
     "output_type": "stream",
     "text": [
      "Targets_Final_Unique.csv 文件已保存到 output/Targets_Final_Unique.csv\n"
     ]
    }
   ],
   "source": [
    "import pandas as pd\n",
    "\n",
    "# 读取 Targets_All.csv 文件\n",
    "targets_all = pd.read_csv('output/Targets_All.csv')\n",
    "\n",
    "# 选择并重命名所需的列\n",
    "final_data = targets_all[['stay_id', 'time', 'value', 'event']].rename(\n",
    "    columns={'stay_id': 'id', 'time': 't', 'value': 'v', 'event': 'k'}\n",
    ")\n",
    "\n",
    "# 按照 id 和 t 进行排序\n",
    "final_data = final_data.sort_values(by=['id', 't'])\n",
    "\n",
    "# 去除连续出现的 k 值相同的行，只保留第一行\n",
    "final_data = final_data.loc[final_data['k'].shift() != final_data['k']]\n",
    "\n",
    "# 保存结果到 Targets_Final_Unique.csv\n",
    "output_file_path_targets_final = 'output/Targets_Final_Unique.csv'\n",
    "final_data.to_csv(output_file_path_targets_final, index=False)\n",
    "\n",
    "print(f\"Targets_Final_Unique.csv 文件已保存到 {output_file_path_targets_final}\")"
   ]
  },
  {
   "cell_type": "code",
   "execution_count": 14,
   "metadata": {},
   "outputs": [
    {
     "name": "stdout",
     "output_type": "stream",
     "text": [
      "Useful_Middle_to_Sever.csv 文件已保存到 output/Useful_Middle_to_Sever.csv\n"
     ]
    }
   ],
   "source": [
    "import pandas as pd\n",
    "\n",
    "# 读取 Targets_Final.csv 文件\n",
    "targets_final = pd.read_csv('output/Goal_Middle_to_Sever.csv')\n",
    "\n",
    "# 提取唯一的 stay_id，并排序\n",
    "unique_stay_ids = targets_final['stay_id'].unique()\n",
    "sorted_stay_ids = sorted(unique_stay_ids)\n",
    "\n",
    "# 创建 DataFrame 存储结果\n",
    "useful_data = pd.DataFrame(sorted_stay_ids, columns=['stay_id'])\n",
    "\n",
    "# 保存结果到 Useful_Middle_to_Sever.csv\n",
    "output_file_path_useful = 'output/Useful_Middle_to_Sever.csv'\n",
    "useful_data.to_csv(output_file_path_useful, index=False)\n",
    "\n",
    "print(f\"Useful_Middle_to_Sever.csv 文件已保存到 {output_file_path_useful}\")"
   ]
  },
  {
   "cell_type": "code",
   "execution_count": 16,
   "metadata": {},
   "outputs": [
    {
     "name": "stderr",
     "output_type": "stream",
     "text": [
      "Filtering rows: 100%|██████████| 1830068/1830068 [00:01<00:00, 1609691.36it/s]\n"
     ]
    },
    {
     "name": "stdout",
     "output_type": "stream",
     "text": [
      "Targets_Middle_to_Sever.csv 文件已保存到 output/Targets_Middle_to_Sever.csv\n"
     ]
    }
   ],
   "source": [
    "import pandas as pd\n",
    "from tqdm import tqdm\n",
    "\n",
    "# 读取 Targets_Final_Unique.csv 文件\n",
    "targets_final_unique = pd.read_csv('output/Targets_Final_Unique.csv')\n",
    "\n",
    "# 读取 Useful_Middle_to_Sever.csv 文件\n",
    "useful_stay_ids = pd.read_csv('output/Useful_Middle_to_Sever.csv')\n",
    "\n",
    "# 将 stay_id 列转换为集合以便快速查找\n",
    "useful_stay_id_set = set(useful_stay_ids['stay_id'])\n",
    "\n",
    "# 使用 tqdm 显示进度条\n",
    "tqdm.pandas(desc=\"Filtering rows\")\n",
    "\n",
    "# 过滤数据\n",
    "filtered_data = targets_final_unique[targets_final_unique['id'].progress_apply(lambda x: x in useful_stay_id_set)]\n",
    "\n",
    "# 删除 t 值为负数的行\n",
    "filtered_data = filtered_data[filtered_data['t'] >= 0]\n",
    "\n",
    "# 保存结果到 Targets_Middle_to_Sever.csv\n",
    "output_file_path_targets_middle_to_sever = 'output/Targets_Middle_to_Sever.csv'\n",
    "filtered_data.to_csv(output_file_path_targets_middle_to_sever, index=False)\n",
    "\n",
    "print(f\"Targets_Middle_to_Sever.csv 文件已保存到 {output_file_path_targets_middle_to_sever}\")"
   ]
  },
  {
   "cell_type": "code",
   "execution_count": 18,
   "metadata": {},
   "outputs": [
    {
     "name": "stdout",
     "output_type": "stream",
     "text": [
      "Goals.csv 文件已保存到 output/Goals.csv\n"
     ]
    }
   ],
   "source": [
    "import pandas as pd\n",
    "\n",
    "# 读取 Targets_Middle_to_Sever.csv 文件\n",
    "targets_middle_to_sever = pd.read_csv('output/Goal_Middle_to_Sever.csv')\n",
    "\n",
    "# 重命名 stay_id 列为 id\n",
    "targets_middle_to_sever.rename(columns={'stay_id': 'id'}, inplace=True)\n",
    "\n",
    "# 将 charttime 和 intime 转换为 datetime 格式\n",
    "targets_middle_to_sever['charttime'] = pd.to_datetime(targets_middle_to_sever['charttime'])\n",
    "targets_middle_to_sever['intime'] = pd.to_datetime(targets_middle_to_sever['intime'])\n",
    "\n",
    "# 计算时间差并转换为小时\n",
    "targets_middle_to_sever['t'] = (targets_middle_to_sever['charttime'] - targets_middle_to_sever['intime']).dt.total_seconds() / 3600\n",
    "\n",
    "# 将 score 列替换为 v\n",
    "targets_middle_to_sever.rename(columns={'score': 'v'}, inplace=True)\n",
    "\n",
    "# 新增 k 列\n",
    "targets_middle_to_sever['k'] = 'Middle_to_Sever'\n",
    "\n",
    "# 删除 t 值小于0的行\n",
    "targets_middle_to_sever = targets_middle_to_sever[targets_middle_to_sever['t'] >= 0]\n",
    "\n",
    "# 选择需要的列并保存结果到 Goals.csv\n",
    "final_columns = ['id', 't', 'v', 'k']\n",
    "goals_data = targets_middle_to_sever[final_columns]\n",
    "\n",
    "# 保存结果到 Goals.csv\n",
    "output_file_path_goals = 'output/Goals.csv'\n",
    "goals_data.to_csv(output_file_path_goals, index=False)\n",
    "\n",
    "print(f\"Goals.csv 文件已保存到 {output_file_path_goals}\")"
   ]
  },
  {
   "cell_type": "code",
   "execution_count": 22,
   "metadata": {},
   "outputs": [
    {
     "name": "stdout",
     "output_type": "stream",
     "text": [
      "Stroke_raw_Dataset.csv 文件已保存到 output/Stroke_raw_Dataset.csv\n"
     ]
    }
   ],
   "source": [
    "import pandas as pd\n",
    "\n",
    "# 读取 Goals.csv 文件\n",
    "goals_data = pd.read_csv('output/Goals.csv')\n",
    "\n",
    "# 读取 Targets_Middle_to_Sever.csv 文件\n",
    "targets_middle_to_sever = pd.read_csv('output/Targets_Middle_to_Sever.csv')\n",
    "\n",
    "# 合并两个 DataFrame\n",
    "combined_data = pd.concat([goals_data, targets_middle_to_sever], ignore_index=True)\n",
    "\n",
    "# 按照 id 和 t 进行排序\n",
    "combined_data = combined_data.sort_values(by=['id', 't'])\n",
    "\n",
    "# 保存结果到 Stroke_Dataset.csv\n",
    "output_file_path_stroke_dataset = 'output/Stroke_raw_Dataset.csv'\n",
    "combined_data.to_csv(output_file_path_stroke_dataset, index=False)\n",
    "\n",
    "print(f\"Stroke_raw_Dataset.csv 文件已保存到 {output_file_path_stroke_dataset}\")"
   ]
  },
  {
   "cell_type": "code",
   "execution_count": 26,
   "metadata": {},
   "outputs": [
    {
     "name": "stderr",
     "output_type": "stream",
     "text": [
      "Processing IDs: 100%|██████████| 1362/1362 [00:07<00:00, 178.32it/s]\n"
     ]
    },
    {
     "name": "stdout",
     "output_type": "stream",
     "text": [
      "Stroke_Dataset.csv 文件已保存到 output/Stroke_Dataset.csv\n"
     ]
    }
   ],
   "source": [
    "import pandas as pd\n",
    "from tqdm import tqdm\n",
    "\n",
    "# 读取 Stroke_Dataset.csv 文件\n",
    "stroke_dataset = pd.read_csv('output/Stroke_raw_Dataset.csv')\n",
    "\n",
    "# 初始化一个空的 DataFrame 来存储结果\n",
    "filtered_data = pd.DataFrame()\n",
    "\n",
    "# 遍历每个唯一的 id，使用 tqdm 显示进度\n",
    "for unique_id in tqdm(stroke_dataset['id'].unique(), desc=\"Processing IDs\"):\n",
    "    # 获取当前 id 的所有行\n",
    "    id_data = stroke_dataset[stroke_dataset['id'] == unique_id]\n",
    "    \n",
    "    # 找到 k 值为 Middle_to_Sever 的最后一行\n",
    "    middle_to_sever_last_index = id_data[id_data['k'] == 'Middle_to_Sever'].index.max()\n",
    "    \n",
    "    # 如果找到了最后一行，保留该行及其之前的所有行\n",
    "    if middle_to_sever_last_index is not None:\n",
    "        filtered_data = pd.concat([filtered_data, id_data.loc[:middle_to_sever_last_index]])\n",
    "\n",
    "# 删除 v 值为负数的行\n",
    "filtered_data = filtered_data[filtered_data['v'] >= 0]\n",
    "\n",
    "# 保存结果到 Stroke_Dataset_Filtered.csv\n",
    "output_file_path_stroke_dataset_filtered = 'output/Stroke_Dataset.csv'\n",
    "filtered_data.to_csv(output_file_path_stroke_dataset_filtered, index=False)\n",
    "\n",
    "print(f\"Stroke_Dataset.csv 文件已保存到 {output_file_path_stroke_dataset_filtered}\")"
   ]
  },
  {
   "cell_type": "code",
   "execution_count": 2,
   "metadata": {},
   "outputs": [
    {
     "name": "stdout",
     "output_type": "stream",
     "text": [
      "总序列数量: 4602\n"
     ]
    },
    {
     "data": {
      "image/png": "[encoded data removed]",
      "text/plain": [
       "<Figure size 1000x600 with 1 Axes>"
      ]
     },
     "metadata": {},
     "output_type": "display_data"
    }
   ],
   "source": [
    "import pandas as pd\n",
    "import matplotlib.pyplot as plt\n",
    "from matplotlib import rcParams\n",
    "\n",
    "# 设置字体以显示中文\n",
    "rcParams['font.sans-serif'] = ['SimHei']  # 使用黑体\n",
    "rcParams['axes.unicode_minus'] = False  # 解决负号显示问题\n",
    "\n",
    "# 读取 Stroke_Dataset_Filtered.csv 文件\n",
    "stroke_dataset_filtered = pd.read_csv('output/Stroke_Dataset.csv')\n",
    "\n",
    "# 找到所有 k 值为 Middle_to_Sever 的行的索引\n",
    "middle_to_sever_indices = stroke_dataset_filtered[stroke_dataset_filtered['k'] == 'Middle_to_Sever'].index\n",
    "\n",
    "# 计算序列数量和长度\n",
    "sequence_lengths = []\n",
    "for i in range(len(middle_to_sever_indices) - 1):\n",
    "    start_index = middle_to_sever_indices[i]\n",
    "    end_index = middle_to_sever_indices[i + 1]\n",
    "    sequence_length = end_index - start_index - 1  # 不包括两个 Middle_to_Sever 行\n",
    "    if sequence_length > 0:\n",
    "        sequence_lengths.append(sequence_length)\n",
    "\n",
    "# 统计序列数量\n",
    "total_sequences = len(sequence_lengths)\n",
    "\n",
    "# 打印序列数量\n",
    "print(f\"总序列数量: {total_sequences}\")\n",
    "\n",
    "# 绘制序列长度的直方图\n",
    "plt.figure(figsize=(10, 6))\n",
    "plt.hist([length for length in sequence_lengths if length <= 1000], bins=range(0, 1002), edgecolor='black', align='left')\n",
    "plt.title('序列长度直方图')\n",
    "plt.xlabel('序列长度')\n",
    "plt.ylabel('频数')\n",
    "plt.xticks(range(0, 1001, 100))  # 横坐标标记为100, 200, 300, ..., 1200\n",
    "plt.grid(axis='y')\n",
    "plt.show()"
   ]
  },
  {
   "cell_type": "code",
   "execution_count": 15,
   "metadata": {},
   "outputs": [
    {
     "name": "stderr",
     "output_type": "stream",
     "text": [
      "C:\\Users\\86136\\AppData\\Local\\Temp\\ipykernel_30368\\3332236722.py:4: DtypeWarning: Columns (0,1,2) have mixed types. Specify dtype option on import or set low_memory=False.\n",
      "  stroke_data = pd.read_csv('output/Stroke_Dataset.csv', header=None, names=['id', 't', 'v', 'k'])\n"
     ]
    },
    {
     "name": "stdout",
     "output_type": "stream",
     "text": [
      "处理后 StrokeDatasets.csv 的序列数量: 4591\n",
      "平均序列长度: 97.47\n",
      "序列长度范围: [2, 2207]\n"
     ]
    }
   ],
   "source": [
    "import pandas as pd\n",
    "\n",
    "# 读取 Stroke_Dataset.csv 文件，确保没有标题行\n",
    "stroke_data = pd.read_csv('output/Stroke_Dataset.csv', header=None, names=['id', 't', 'v', 'k'])\n",
    "\n",
    "# 确保 't' 列中没有非数值数据\n",
    "stroke_data = stroke_data[stroke_data['t'] != 't']\n",
    "\n",
    "# 将 t 列转换为浮点数\n",
    "stroke_data['t'] = stroke_data['t'].astype(float)\n",
    "\n",
    "# 初始化变量\n",
    "sequences = []\n",
    "current_sequence = []\n",
    "\n",
    "# 遍历数据，识别序列\n",
    "for index, row in stroke_data.iterrows():\n",
    "    if row['k'] == 'Middle_to_Sever':\n",
    "        if current_sequence:  # 如果当前序列不为空，保存当前序列\n",
    "            sequences.append(current_sequence)\n",
    "        current_sequence = [row]  # 开始新的序列\n",
    "    else:\n",
    "        current_sequence.append(row)  # 添加到当前序列\n",
    "\n",
    "# 处理最后一个序列（如果存在）\n",
    "if current_sequence:\n",
    "    sequences.append(current_sequence)\n",
    "\n",
    "# 过滤掉时间跨度超过 14*24 小时的序列和长度小于2的序列\n",
    "filtered_sequences = []\n",
    "for seq in sequences:\n",
    "    if len(seq) >= 2 and (seq[-1]['t'] - seq[0]['t'] <= 14 * 24):\n",
    "        filtered_sequences.append(seq)\n",
    "\n",
    "# 将过滤后的序列合并为 DataFrame\n",
    "filtered_data = pd.concat([pd.DataFrame(seq) for seq in filtered_sequences], ignore_index=True)\n",
    "\n",
    "# 保存结果到 StrokeDatasets.csv\n",
    "output_file_path_stroke_datasets = 'output/StrokeDatasets.csv'\n",
    "filtered_data.to_csv(output_file_path_stroke_datasets, index=False, header=False)\n",
    "\n",
    "# 统计信息\n",
    "num_sequences = len(filtered_sequences)\n",
    "sequence_lengths = [len(seq) for seq in filtered_sequences]\n",
    "average_length = sum(sequence_lengths) / num_sequences if num_sequences > 0 else 0\n",
    "min_length = min(sequence_lengths) if sequence_lengths else 0\n",
    "max_length = max(sequence_lengths) if sequence_lengths else 0\n",
    "\n",
    "# 打印统计信息\n",
    "print(f\"处理后 StrokeDatasets.csv 的序列数量: {num_sequences}\")\n",
    "print(f\"平均序列长度: {average_length:.2f}\")\n",
    "print(f\"序列长度范围: [{min_length}, {max_length}]\")"
   ]
  },
  {
   "cell_type": "code",
   "execution_count": 2,
   "metadata": {},
   "outputs": [
    {
     "name": "stdout",
     "output_type": "stream",
     "text": [
      "在 StrokeDatasets.csv 中所有的事件类型为: ['Arterial Blood Pressure systolic High'\n",
      " 'Arterial Blood Pressure diastolic Low' 'Respiratory Rate High'\n",
      " 'O2 saturation pulseoxymetry Low' 'Heart Rate High'\n",
      " 'Respiratory Rate Low' 'Arterial Blood Pressure mean Low'\n",
      " 'Hemoglobin Low' 'Glucose High' 'Prothrombin time High' 'INR High'\n",
      " 'White Blood Cells High' 'Arterial O2 pressure High' 'Hematocrit Low'\n",
      " 'Arterial CO2 Pressure High' 'Arterial CO2 Pressure Low' 'PTT High'\n",
      " 'Chloride High' 'Creatinine High' 'Sodium High'\n",
      " 'Arterial Blood Pressure systolic Low'\n",
      " 'Arterial Blood Pressure diastolic High'\n",
      " 'Arterial Blood Pressure mean High' 'HCO3 Low' 'White Blood Cells Low'\n",
      " 'Arterial O2 pressure Low' 'BUN High' 'HCO3 High' 'Anion gap Low'\n",
      " 'Platelet Count Low' 'Arterial Base Excess High' 'Chloride Low'\n",
      " 'Temperature Fahrenheit High' 'Potassium Low' 'Platelet Count High'\n",
      " 'Heart Rate Low' 'Anion gap High' 'Potassium High' 'Sodium Low'\n",
      " 'Creatinine Low' 'BUN Low' 'PTT Low' 'Temperature Fahrenheit Low'\n",
      " 'Prothrombin time Low' 'Glucose Low' 'Hemoglobin High' 'Hematocrit High'\n",
      " 'INR Low']\n",
      "在 StrokeDatasets.csv 中事件类型数量为: 48\n"
     ]
    }
   ],
   "source": [
    "import pandas as pd\n",
    "\n",
    "# 读取 StrokeDatasets.csv 文件\n",
    "stroke_datasets = pd.read_csv('output/StrokeDatasets.csv')\n",
    "\n",
    "# 过滤掉 k 值为 Middle_to_Sever 的数据\n",
    "filtered_datasets = stroke_datasets[stroke_datasets['k'] != 'Middle_to_Sever']\n",
    "\n",
    "# 统计不同的 k 值数量\n",
    "unique_k_count = filtered_datasets['k'].nunique()\n",
    "\n",
    "# 打印所有的 k 值\n",
    "print(\"在 StrokeDatasets.csv 中所有的事件类型为:\", filtered_datasets['k'].unique())\n",
    "\n",
    "# 打印结果\n",
    "print(f\"在 StrokeDatasets.csv 中事件类型数量为: {unique_k_count}\")"
   ]
  },
  {
   "cell_type": "code",
   "execution_count": 4,
   "metadata": {},
   "outputs": [
    {
     "name": "stdout",
     "output_type": "stream",
     "text": [
      "                                 body_pred  index\n",
      "0    Arterial Blood Pressure systolic High      0\n",
      "1    Arterial Blood Pressure diastolic Low      1\n",
      "2                    Respiratory Rate High      2\n",
      "3          O2 saturation pulseoxymetry Low      3\n",
      "4                          Heart Rate High      4\n",
      "5                     Respiratory Rate Low      5\n",
      "6         Arterial Blood Pressure mean Low      6\n",
      "7                           Hemoglobin Low      7\n",
      "8                             Glucose High      8\n",
      "9                    Prothrombin time High      9\n",
      "10                                INR High     10\n",
      "11                  White Blood Cells High     11\n",
      "12               Arterial O2 pressure High     12\n",
      "13                          Hematocrit Low     13\n",
      "14              Arterial CO2 Pressure High     14\n",
      "15               Arterial CO2 Pressure Low     15\n",
      "16                                PTT High     16\n",
      "17                           Chloride High     17\n",
      "18                         Creatinine High     18\n",
      "19                             Sodium High     19\n",
      "20    Arterial Blood Pressure systolic Low     20\n",
      "21  Arterial Blood Pressure diastolic High     21\n",
      "22       Arterial Blood Pressure mean High     22\n",
      "23                                HCO3 Low     23\n",
      "24                   White Blood Cells Low     24\n",
      "25                Arterial O2 pressure Low     25\n",
      "26                                BUN High     26\n",
      "27                               HCO3 High     27\n",
      "28                           Anion gap Low     28\n",
      "29                      Platelet Count Low     29\n",
      "30               Arterial Base Excess High     30\n",
      "31                            Chloride Low     31\n",
      "32             Temperature Fahrenheit High     32\n",
      "33                           Potassium Low     33\n",
      "34                     Platelet Count High     34\n",
      "35                          Heart Rate Low     35\n",
      "36                          Anion gap High     36\n",
      "37                          Potassium High     37\n",
      "38                              Sodium Low     38\n",
      "39                          Creatinine Low     39\n",
      "40                                 BUN Low     40\n",
      "41                                 PTT Low     41\n",
      "42              Temperature Fahrenheit Low     42\n",
      "43                    Prothrombin time Low     43\n",
      "44                             Glucose Low     44\n",
      "45                         Hemoglobin High     45\n",
      "46                         Hematocrit High     46\n",
      "47                                 INR Low     47\n"
     ]
    }
   ],
   "source": [
    "import pandas as pd\n",
    "\n",
    "df = pd.read_csv('./output/StrokeDatasets.csv')\n",
    "\n",
    "# 提取所有不同的k值，并跳过值为Middle_to_Sever的项\n",
    "unique_k_values = df['k'].unique()\n",
    "\n",
    "unique_k_values = [k for k in unique_k_values if k != 'Middle_to_Sever']\n",
    "\n",
    "result_df = pd.DataFrame({\n",
    "    'body_pred': unique_k_values,\n",
    "    'index': range(len(unique_k_values))\n",
    "})\n",
    "\n",
    "result_df.to_csv('Stroke_Body_Pred.csv', index=False)\n",
    "print(result_df)\n"
   ]
  },
  {
   "cell_type": "code",
   "execution_count": 5,
   "metadata": {},
   "outputs": [
    {
     "name": "stdout",
     "output_type": "stream",
     "text": [
      "StrokeTrain.csv 和 StrokeTest.csv 已保存。\n"
     ]
    }
   ],
   "source": [
    "import pandas as pd\n",
    "\n",
    "# 读取 StrokeDatasets.csv 文件\n",
    "stroke_data = pd.read_csv('output/StrokeDatasets.csv')\n",
    "\n",
    "# 提取唯一的 id\n",
    "unique_ids = stroke_data['id'].unique()\n",
    "\n",
    "# 计算分割点\n",
    "split_index = int(len(unique_ids) * 0.8)\n",
    "\n",
    "# 分割 id 为 ids1 和 ids2\n",
    "ids1 = unique_ids[:split_index]\n",
    "ids2 = unique_ids[split_index:]\n",
    "\n",
    "# 根据 ids1 和 ids2 过滤数据\n",
    "stroke_train = stroke_data[stroke_data['id'].isin(ids1)]\n",
    "stroke_test = stroke_data[stroke_data['id'].isin(ids2)]\n",
    "\n",
    "# 保存结果到 StrokeTrain.csv 和 StrokeTest.csv\n",
    "stroke_train.to_csv('StrokeTrain.csv', index=False)\n",
    "stroke_test.to_csv('StrokeTest.csv', index=False)\n",
    "\n",
    "print(f\"StrokeTrain.csv 和 StrokeTest.csv 已保存。\")"
   ]
  },
  {
   "cell_type": "code",
   "execution_count": 2,
   "metadata": {},
   "outputs": [
    {
     "name": "stderr",
     "output_type": "stream",
     "text": [
      "d:\\Anaconda\\lib\\site-packages\\pandas\\core\\computation\\expressions.py:21: UserWarning: Pandas requires version '2.8.4' or newer of 'numexpr' (version '2.8.3' currently installed).\n",
      "  from pandas.core.computation.check import NUMEXPR_INSTALLED\n",
      "d:\\Anaconda\\lib\\site-packages\\pandas\\core\\arrays\\masked.py:60: UserWarning: Pandas requires version '1.3.6' or newer of 'bottleneck' (version '1.3.5' currently installed).\n",
      "  from pandas.core import (\n"
     ]
    }
   ],
   "source": [
    "import pandas as pd\n",
    "\n",
    "test_df = pd.read_csv('StrokeTest.csv')\n",
    "train_df = pd.read_csv('StrokeTrain.csv')\n",
    "body_pred_df = pd.read_csv('Stroke_Body_Pred.csv')\n",
    "\n",
    "# 创建一个字典用于查找 body_pred 对应的 index\n",
    "body_pred_to_index = body_pred_df.set_index('body_pred')['index'].to_dict()\n",
    "\n",
    "# 定义一个函数来查找 index\n",
    "def find_index(row):\n",
    "    return body_pred_to_index.get(row['k'], None)\n",
    "\n",
    "# 在 test 和 train 数据集中添加 index 列\n",
    "test_df['index'] = test_df.apply(find_index, axis=1)\n",
    "train_df['index'] = train_df.apply(find_index, axis=1)\n",
    "\n",
    "test_df.to_csv('StrokeTestIndex.csv', index=False)\n",
    "train_df.to_csv('StrokeTrainIndex.csv', index=False)"
   ]
  },
  {
   "cell_type": "code",
   "execution_count": 3,
   "metadata": {},
   "outputs": [
    {
     "name": "stdout",
     "output_type": "stream",
     "text": [
      "Test file null rows count: 0\n",
      "Train file null rows count: 0\n"
     ]
    }
   ],
   "source": [
    "# 此处检查一下，是否存在 k 值不为 '1/2transfer3' 且 index 为 null 的行\n",
    "test_index_df = pd.read_csv('StrokeTestIndex.csv')\n",
    "train_index_df = pd.read_csv('StrokeTrainIndex.csv')\n",
    "\n",
    "# 筛选出 k 值不为 '1/2transfer3' 且 index 为 null 的行\n",
    "test_null_rows = test_index_df[(test_index_df['k'] != 'Middle_to_Sever') & (test_index_df['index'].isnull())]\n",
    "train_null_rows = train_index_df[(train_index_df['k'] != 'Middle_to_Sever') & (train_index_df['index'].isnull())]\n",
    "\n",
    "print(f\"Test file null rows count: {len(test_null_rows)}\")\n",
    "print(f\"Train file null rows count: {len(train_null_rows)}\")"
   ]
  },
  {
   "cell_type": "code",
   "execution_count": 4,
   "metadata": {},
   "outputs": [
    {
     "name": "stdout",
     "output_type": "stream",
     "text": [
      "StrokeTestIndex.csv 数据集总共有 875 组\n",
      "前两个结果: [{'id': 37623155, 'body_predicates_time': [43.33333333, 33.33333333, 43.33333333, 31.33333333, 28.33333333, 10000000000.0, 24.33333333, 28.5, 28.5, 10000000000.0, 10000000000.0, 28.5, 17.4, 10000000000.0, 10000000000.0, 17.4, 10000000000.0, 10000000000.0, 10000000000.0, 10000000000.0, 10000000000.0, 35.33333333, 10000000000.0, 10000000000.0, 10000000000.0, 10000000000.0, 10000000000.0, 10000000000.0, 10000000000.0, 10000000000.0, 10000000000.0, 10000000000.0, 42.33333333, 10000000000.0, 10000000000.0, 10000000000.0, 10000000000.0, 10000000000.0, 10000000000.0, 10000000000.0, 10000000000.0, 10000000000.0, 10000000000.0, 10000000000.0, 10000000000.0, 10000000000.0, 10000000000.0, 10000000000.0], 'head_predicate_time': [43.4]}, {'id': 37627501, 'body_predicates_time': [83.41388889, 83.41388889, 72.41388889, 83.41388889, 10000000000.0, 79.41388889, 83.41388889, 64.18055556, 64.18055556, 2.547222222, 2.547222222, 53.31388889, 40.83055556, 11.08055556, 2.580555556, 64.18055556, 10000000000.0, 10000000000.0, 76.53055556, 10000000000.0, 3.413888889, 10000000000.0, 10000000000.0, 76.53055556, 10000000000.0, 10000000000.0, 76.53055556, 10000000000.0, 10000000000.0, 3.913888889, 10000000000.0, 10000000000.0, 83.41388889, 10000000000.0, 10000000000.0, 67.41388889, 64.18055556, 10000000000.0, 10000000000.0, 10000000000.0, 10000000000.0, 10000000000.0, 10000000000.0, 10000000000.0, 10000000000.0, 10000000000.0, 10000000000.0, 10000000000.0], 'head_predicate_time': [83.41666667]}]\n",
      "StrokeTrainIndex.csv 数据集总共有 3716 组\n",
      "前两个结果: [{'id': 30004144, 'body_predicates_time': [27.25972222, 22.65972222, 26.65972222, 25.15972222, 26.90972222, 10.40972222, 27.24305556, 26.07638889, 26.07638889, 26.07638889, 26.07638889, 26.07638889, 10000000000.0, 10000000000.0, 10000000000.0, 10000000000.0, 10000000000.0, 10000000000.0, 10000000000.0, 10000000000.0, 10000000000.0, 10000000000.0, 10000000000.0, 10000000000.0, 10000000000.0, 10000000000.0, 10000000000.0, 10000000000.0, 10000000000.0, 10000000000.0, 10000000000.0, 10000000000.0, 10000000000.0, 10000000000.0, 10000000000.0, 10000000000.0, 10000000000.0, 10000000000.0, 10000000000.0, 10000000000.0, 10000000000.0, 10000000000.0, 10000000000.0, 10000000000.0, 10000000000.0, 10000000000.0, 10000000000.0, 10000000000.0], 'head_predicate_time': [27.66666667]}, {'id': 30009339, 'body_predicates_time': [283.4166667, 228.4166667, 261.75, 276.8333333, 261.5833333, 281.4166667, 209.4166667, 280.4, 280.4, 280.4, 280.4, 280.4, 280.7166667, 110.4833333, 82.6, 260.45, 261.1333333, 280.4, 280.4, 280.4, 205.4166667, 283.4166667, 261.5833333, 10.31666667, 14.13333333, 26.06666667, 280.4, 280.4, 25.8, 148.55, 280.7166667, 131.4166667, 284.4166667, 219.3166667, 10000000000.0, 10000000000.0, 10000000000.0, 10000000000.0, 10000000000.0, 10000000000.0, 10000000000.0, 10000000000.0, 10000000000.0, 10000000000.0, 10000000000.0, 10000000000.0, 10000000000.0, 10000000000.0], 'head_predicate_time': [284.4833333]}]\n"
     ]
    }
   ],
   "source": [
    "import numpy as np\n",
    "import pandas as pd\n",
    "\n",
    "# 定义一个非常大的数，如果一个谓词对应的事件没有发生，则用一个很大的数来表示\n",
    "large_number = 1e10\n",
    "\n",
    "def process_dataframe(file_path, output_path):\n",
    "    df = pd.read_csv(file_path)\n",
    "    \n",
    "    result = []\n",
    "    group = []\n",
    "    for _, row in df.iterrows():\n",
    "        if row['k'] == 'Middle_to_Sever':\n",
    "            # 处理当前组\n",
    "            if group:\n",
    "                group_id = group[0]['id']\n",
    "                # 初始化 body_predicates_time 数组\n",
    "                body_predicates_time = [large_number] * 48\n",
    "                # 填充 body_predicates_time 数组\n",
    "                for item in group:\n",
    "                    index = int(item['index'])\n",
    "                    body_predicates_time[index] = item['t']\n",
    "                # If body_predicates_time is all large_number, skip this group\n",
    "                if all(time == large_number for time in body_predicates_time):\n",
    "                    continue\n",
    "                # 获取 head_predicate_time\n",
    "                head_predicate_time = [row['t']]\n",
    "                # 添加到结果\n",
    "                result.append({\n",
    "                    'id': group_id,\n",
    "                    'body_predicates_time': body_predicates_time,\n",
    "                    'head_predicate_time': head_predicate_time\n",
    "                })\n",
    "            group = []\n",
    "        else:\n",
    "            group.append(row)\n",
    "    \n",
    "    np.save(output_path, result)\n",
    "    # 输出分组数\n",
    "    print(f\"{file_path} 数据集总共有 {len(result)} 组\")\n",
    "    # 打印前两个结果\n",
    "    print(f\"前两个结果: {result[:2]}\")\n",
    "\n",
    "# 处理测试集和训练集\n",
    "process_dataframe('StrokeTestIndex.csv', 'StrokeTestData.npy')\n",
    "process_dataframe('StrokeTrainIndex.csv', 'StrokeTrainData.npy')\n"
   ]
  },
  {
   "cell_type": "code",
   "execution_count": 3,
   "metadata": {},
   "outputs": [
    {
     "name": "stdout",
     "output_type": "stream",
     "text": [
      "StrokeTrain.npy 中的组数: 3708\n",
      "StrokeTest.npy 中的组数: 871\n",
      "StrokeTrain.npy 前两个组: [{'id': 30004144, 'body_predicates_time': [27.25972222, 22.65972222, 26.65972222, 25.15972222, 26.90972222, 10.40972222, 27.24305556, 26.07638889, 26.07638889, 26.07638889, 26.07638889, 26.07638889, 10000000000.0, 10000000000.0, 10000000000.0, 10000000000.0, 10000000000.0, 10000000000.0, 10000000000.0, 10000000000.0, 10000000000.0, 10000000000.0, 10000000000.0, 10000000000.0, 10000000000.0, 10000000000.0, 10000000000.0, 10000000000.0, 10000000000.0, 10000000000.0, 10000000000.0, 10000000000.0, 10000000000.0, 10000000000.0, 10000000000.0, 10000000000.0, 10000000000.0, 10000000000.0, 10000000000.0, 10000000000.0, 10000000000.0, 10000000000.0, 10000000000.0, 10000000000.0, 10000000000.0, 10000000000.0, 10000000000.0, 10000000000.0], 'head_predicate_time': [27.66666667]}, {'id': 30009339, 'body_predicates_time': [283.4166667, 228.4166667, 261.75, 276.8333333, 261.5833333, 281.4166667, 209.4166667, 280.4, 280.4, 280.4, 280.4, 280.4, 280.7166667, 110.4833333, 82.6, 260.45, 261.1333333, 280.4, 280.4, 280.4, 205.4166667, 283.4166667, 261.5833333, 10.31666667, 14.13333333, 26.06666667, 280.4, 280.4, 25.8, 148.55, 280.7166667, 131.4166667, 284.4166667, 219.3166667, 10000000000.0, 10000000000.0, 10000000000.0, 10000000000.0, 10000000000.0, 10000000000.0, 10000000000.0, 10000000000.0, 10000000000.0, 10000000000.0, 10000000000.0, 10000000000.0, 10000000000.0, 10000000000.0], 'head_predicate_time': [284.4833333]}]\n",
      "StrokeTest.npy 前两个组: [{'id': 37623155, 'body_predicates_time': [43.33333333, 33.33333333, 43.33333333, 31.33333333, 28.33333333, 10000000000.0, 24.33333333, 28.5, 28.5, 10000000000.0, 10000000000.0, 28.5, 17.4, 10000000000.0, 10000000000.0, 17.4, 10000000000.0, 10000000000.0, 10000000000.0, 10000000000.0, 10000000000.0, 35.33333333, 10000000000.0, 10000000000.0, 10000000000.0, 10000000000.0, 10000000000.0, 10000000000.0, 10000000000.0, 10000000000.0, 10000000000.0, 10000000000.0, 42.33333333, 10000000000.0, 10000000000.0, 10000000000.0, 10000000000.0, 10000000000.0, 10000000000.0, 10000000000.0, 10000000000.0, 10000000000.0, 10000000000.0, 10000000000.0, 10000000000.0, 10000000000.0, 10000000000.0, 10000000000.0], 'head_predicate_time': [43.4]}, {'id': 37627501, 'body_predicates_time': [83.41388889, 83.41388889, 72.41388889, 83.41388889, 10000000000.0, 79.41388889, 83.41388889, 64.18055556, 64.18055556, 2.547222222, 2.547222222, 53.31388889, 40.83055556, 11.08055556, 2.580555556, 64.18055556, 10000000000.0, 10000000000.0, 76.53055556, 10000000000.0, 3.413888889, 10000000000.0, 10000000000.0, 76.53055556, 10000000000.0, 10000000000.0, 76.53055556, 10000000000.0, 10000000000.0, 3.913888889, 10000000000.0, 10000000000.0, 83.41388889, 10000000000.0, 10000000000.0, 67.41388889, 64.18055556, 10000000000.0, 10000000000.0, 10000000000.0, 10000000000.0, 10000000000.0, 10000000000.0, 10000000000.0, 10000000000.0, 10000000000.0, 10000000000.0, 10000000000.0], 'head_predicate_time': [83.41666667]}]\n"
     ]
    }
   ],
   "source": [
    "import numpy as np\n",
    "\n",
    "# 加载 .npy 文件\n",
    "train_data = np.load('StrokeTrainData.npy', allow_pickle=True)\n",
    "test_data = np.load('StrokeTestData.npy', allow_pickle=True)\n",
    "\n",
    "def filter_data(data):\n",
    "    filtered_data = []\n",
    "    for group in data:\n",
    "        # 假设每组数据是一个字典，包含 'id', 'body_predicates_time', 'head_predicate_time'\n",
    "        body_predicates_time = group['body_predicates_time']\n",
    "        head_predicate_time = float(group['head_predicate_time'][0])  # 将 head_predicate_time 转换为数字\n",
    "        \n",
    "        # 找到 body_predicates_time 中的最大值，且不等于 10000000000.0\n",
    "        max_body_time = max(float(time) for time in body_predicates_time if float(time) != 10000000000.0)  # 将 body_predicates_time 中的值转换为数字\n",
    "        \n",
    "        # 检查条件\n",
    "        if max_body_time + 24 >= head_predicate_time:\n",
    "            filtered_data.append(group)\n",
    "    \n",
    "    return filtered_data\n",
    "\n",
    "# 过滤数据\n",
    "filtered_train_data = filter_data(train_data)\n",
    "filtered_test_data = filter_data(test_data)\n",
    "\n",
    "# 保存过滤后的数据\n",
    "np.save('StrokeTrain.npy', filtered_train_data)\n",
    "np.save('StrokeTest.npy', filtered_test_data)\n",
    "\n",
    "# 打印结果\n",
    "print(f\"StrokeTrain.npy 中的组数: {len(filtered_train_data)}\")\n",
    "print(f\"StrokeTest.npy 中的组数: {len(filtered_test_data)}\")\n",
    "\n",
    "# 打印前两个组\n",
    "print(\"StrokeTrain.npy 前两个组:\", filtered_train_data[:2])\n",
    "print(\"StrokeTest.npy 前两个组:\", filtered_test_data[:2])"
   ]
  }
 ],
 "metadata": {
  "kernelspec": {
   "display_name": "base",
   "language": "python",
   "name": "python3"
  },
  "language_info": {
   "codemirror_mode": {
    "name": "ipython",
    "version": 3
   },
   "file_extension": ".py",
   "mimetype": "text/x-python",
   "name": "python",
   "nbconvert_exporter": "python",
   "pygments_lexer": "ipython3",
   "version": "3.9.13"
  }
 },
 "nbformat": 4,
 "nbformat_minor": 2
}
