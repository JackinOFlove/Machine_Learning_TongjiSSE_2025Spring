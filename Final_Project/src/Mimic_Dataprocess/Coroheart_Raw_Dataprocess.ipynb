{
 "cells": [
  {
   "cell_type": "code",
   "execution_count": 4,
   "metadata": {},
   "outputs": [
    {
     "name": "stdout",
     "output_type": "stream",
     "text": [
      "220546, 220228, 226540, 227457, 220615, 220621, 225624, 227467, 225668, 227442, 220645, 220050, 220051, 220052, 220045, 220210, 223761, 225690, 220603, 220277, 225625, 227456, 227073, 227444, 225634, 225628, 220644, 220587, 227446, 220632\n"
     ]
    }
   ],
   "source": [
    "import pandas as pd\n",
    "\n",
    "# 读取 Coroheart_Normal_Values.csv 文件\n",
    "normal_values = pd.read_csv('output/Coroheart_Normal_Values.csv')\n",
    "\n",
    "# 提取 itemid 列并转换为字典\n",
    "itemid_dict = normal_values['itemid'].to_dict()\n",
    "\n",
    "# 打印 itemid\n",
    "itemid_list = ', '.join(map(str, itemid_dict.values()))\n",
    "print(itemid_list)"
   ]
  },
  {
   "cell_type": "code",
   "execution_count": 7,
   "metadata": {},
   "outputs": [
    {
     "name": "stderr",
     "output_type": "stream",
     "text": [
      "Processing chartevents: 100%|██████████| 4330/4330 [1:26:06<00:00,  1.19s/it]\n"
     ]
    },
    {
     "name": "stdout",
     "output_type": "stream",
     "text": [
      "Coroheart_Targets_Raw.csv 文件已保存到 output/Coroheart_Targets_Raw.csv\n"
     ]
    },
    {
     "ename": "",
     "evalue": "",
     "output_type": "error",
     "traceback": [
      "\u001b[1;31mThe Kernel crashed while executing code in the current cell or a previous cell. \n",
      "\u001b[1;31mPlease review the code in the cell(s) to identify a possible cause of the failure. \n",
      "\u001b[1;31mClick <a href='https://aka.ms/vscodeJupyterKernelCrash'>here</a> for more info. \n",
      "\u001b[1;31mView Jupyter <a href='command:jupyter.viewOutput'>log</a> for further details."
     ]
    }
   ],
   "source": [
    "import pandas as pd\n",
    "from tqdm import tqdm\n",
    "\n",
    "# 读取 Coroheart_Age_Gender.csv 文件，提取 (subject_id, hadm_id, stay_id)\n",
    "coroheart_age_gender = pd.read_csv('output/Coroheart_Age_Gender.csv')\n",
    "valid_combinations = set(zip(coroheart_age_gender['subject_id'], coroheart_age_gender['hadm_id'], coroheart_age_gender['stay_id']))\n",
    "\n",
    "# 定义需要保留的 itemid 列表\n",
    "valid_itemids = {\n",
    "    220546, 220228, 226540, 227457, 220615, 220621, 225624, 227467, \n",
    "    225668, 227442, 220645, 220050, 220051, 220052, 220045, 220210, \n",
    "    223761, 225690, 220603, 220277, 225625, 227456, 227073, 227444, \n",
    "    225634, 225628, 220644, 220587, 227446, 220632\n",
    "}\n",
    "\n",
    "# 读取 chartevents.csv 文件\n",
    "chunk_size = 10**5  # 分块大小\n",
    "filtered_data = pd.DataFrame()  # 用于存储过滤后的数据\n",
    "\n",
    "# 计算块数\n",
    "total_chunks = sum(1 for _ in pd.read_csv('..\\chartevents.csv', chunksize=chunk_size))\n",
    "\n",
    "# 使用 tqdm 显示进度条\n",
    "with tqdm(total=total_chunks, desc=\"Processing chartevents\") as pbar:\n",
    "    for chunk in pd.read_csv('..\\chartevents.csv', chunksize=chunk_size):\n",
    "        # 过滤条件：组合 (subject_id, hadm_id, stay_id) 在 valid_combinations 中，itemid 在 valid_itemids 中\n",
    "        filtered_chunk = chunk[\n",
    "            chunk.apply(lambda row: (row['subject_id'], row['hadm_id'], row['stay_id']) in valid_combinations, axis=1) &\n",
    "            chunk['itemid'].isin(valid_itemids)\n",
    "        ]\n",
    "        filtered_data = pd.concat([filtered_data, filtered_chunk], ignore_index=True)\n",
    "        pbar.update(1)\n",
    "\n",
    "# 保存结果到 Coroheart_Targets_Raw.csv\n",
    "output_file_path_coroheart_targets_raw = 'output/Coroheart_Targets_Raw.csv'\n",
    "filtered_data.to_csv(output_file_path_coroheart_targets_raw, index=False)\n",
    "\n",
    "print(f\"Coroheart_Targets_Raw.csv 文件已保存到 {output_file_path_coroheart_targets_raw}\")"
   ]
  },
  {
   "cell_type": "code",
   "execution_count": 1,
   "metadata": {},
   "outputs": [
    {
     "name": "stderr",
     "output_type": "stream",
     "text": [
      "d:\\Anaconda\\lib\\site-packages\\pandas\\core\\computation\\expressions.py:21: UserWarning: Pandas requires version '2.8.4' or newer of 'numexpr' (version '2.8.3' currently installed).\n",
      "  from pandas.core.computation.check import NUMEXPR_INSTALLED\n",
      "d:\\Anaconda\\lib\\site-packages\\pandas\\core\\arrays\\masked.py:60: UserWarning: Pandas requires version '1.3.6' or newer of 'bottleneck' (version '1.3.5' currently installed).\n",
      "  from pandas.core import (\n"
     ]
    },
    {
     "name": "stdout",
     "output_type": "stream",
     "text": [
      "Coroheart_Targets_Filter.csv 文件已保存到 output/Coroheart_Targets_Filter.csv\n"
     ]
    }
   ],
   "source": [
    "import pandas as pd\n",
    "\n",
    "# 读取 Coroheart_Targets_Raw.csv 文件\n",
    "coroheart_targets_raw = pd.read_csv('output/Coroheart_Targets_Raw.csv')\n",
    "\n",
    "# 选择需要保留的列\n",
    "filtered_data = coroheart_targets_raw[['stay_id', 'charttime', 'itemid', 'value']]\n",
    "\n",
    "# 保存结果到 Coroheart_Targets_Filter.csv\n",
    "output_file_path_coroheart_targets_filter = 'output/Coroheart_Targets_Filter.csv'\n",
    "filtered_data.to_csv(output_file_path_coroheart_targets_filter, index=False)\n",
    "\n",
    "print(f\"Coroheart_Targets_Filter.csv 文件已保存到 {output_file_path_coroheart_targets_filter}\")"
   ]
  },
  {
   "cell_type": "code",
   "execution_count": 2,
   "metadata": {},
   "outputs": [
    {
     "name": "stdout",
     "output_type": "stream",
     "text": [
      "Coroheart_Targets_Initial.csv 文件已保存到 output/Coroheart_Targets_Initial.csv\n"
     ]
    }
   ],
   "source": [
    "import pandas as pd\n",
    "\n",
    "# 读取 Coroheart_Targets_Filter.csv 文件\n",
    "coroheart_targets_filter = pd.read_csv('output/Coroheart_Targets_Filter.csv')\n",
    "\n",
    "# 读取 Coroheart_Age_Gender.csv 文件\n",
    "coroheart_age_gender = pd.read_csv('output/Coroheart_Age_Gender.csv')\n",
    "\n",
    "# 创建一个字典以便快速查找 stay_id 对应的 gender\n",
    "gender_dict = coroheart_age_gender.set_index('stay_id')['gender'].to_dict()\n",
    "\n",
    "# 添加 gender 列\n",
    "coroheart_targets_filter['gender'] = coroheart_targets_filter['stay_id'].map(gender_dict)\n",
    "\n",
    "# 保存结果到 Coroheart_Targets_Initial.csv\n",
    "output_file_path_coroheart_targets_initial = 'output/Coroheart_Targets_Initial.csv'\n",
    "coroheart_targets_filter.to_csv(output_file_path_coroheart_targets_initial, index=False)\n",
    "\n",
    "print(f\"Coroheart_Targets_Initial.csv 文件已保存到 {output_file_path_coroheart_targets_initial}\")"
   ]
  },
  {
   "cell_type": "code",
   "execution_count": 2,
   "metadata": {},
   "outputs": [
    {
     "name": "stderr",
     "output_type": "stream",
     "text": [
      "Processing tags and labels: 100%|██████████| 10770376/10770376 [49:36<00:00, 3618.98it/s] \n"
     ]
    },
    {
     "name": "stdout",
     "output_type": "stream",
     "text": [
      "Coroheart_Targets_Tag.csv 文件已保存到 output/Coroheart_Targets_Tag.csv\n"
     ]
    }
   ],
   "source": [
    "import pandas as pd\n",
    "from tqdm import tqdm\n",
    "\n",
    "# 读取 Coroheart_Targets_Initial.csv 和 Coroheart_Normal_Values.csv 文件\n",
    "targets_initial = pd.read_csv('output/Coroheart_Targets_Initial.csv')\n",
    "normal_values = pd.read_csv('output/Coroheart_Normal_Values.csv')\n",
    "\n",
    "# 创建一个字典以便快速查找 itemid 对应的正常值和标签\n",
    "normal_values_dict = normal_values.set_index('itemid').to_dict(orient='index')\n",
    "\n",
    "# 初始化进度条\n",
    "tqdm.pandas(desc=\"Processing tags and labels\")\n",
    "\n",
    "# 定义函数来计算 tag 和 label\n",
    "def calculate_tag_and_label(row):\n",
    "    itemid = row['itemid']\n",
    "    value = row['value']\n",
    "    gender = row['gender']\n",
    "    \n",
    "    # 获取正常值和标签\n",
    "    normal_info = normal_values_dict.get(itemid, None)\n",
    "    if normal_info is None:\n",
    "        return pd.Series([None, None])  # 如果没有找到对应的 itemid，返回 None\n",
    "    \n",
    "    # 获取正常范围\n",
    "    if gender == 'M':\n",
    "        low, high = normal_info['M_low'], normal_info['M_upper']\n",
    "    else:\n",
    "        low, high = normal_info['F_low'], normal_info['F_upper']\n",
    "    \n",
    "    # 计算 tag\n",
    "    if value < low:\n",
    "        tag = 'Low'\n",
    "    elif value > high:\n",
    "        tag = 'High'\n",
    "    else:\n",
    "        tag = 'Normal'\n",
    "    \n",
    "    # 获取 label\n",
    "    label = normal_info['label']\n",
    "    \n",
    "    return pd.Series([tag, label])\n",
    "\n",
    "# 应用函数并添加 tag 和 label 列\n",
    "targets_initial[['tag', 'label']] = targets_initial.progress_apply(calculate_tag_and_label, axis=1)\n",
    "\n",
    "# 保存结果到 Coroheart_Targets_Tag.csv\n",
    "output_file_path_coroheart_targets_tag = 'output/Coroheart_Targets_Tag.csv'\n",
    "targets_initial.to_csv(output_file_path_coroheart_targets_tag, index=False)\n",
    "\n",
    "print(f\"Coroheart_Targets_Tag.csv 文件已保存到 {output_file_path_coroheart_targets_tag}\")"
   ]
  },
  {
   "cell_type": "code",
   "execution_count": 2,
   "metadata": {},
   "outputs": [
    {
     "name": "stderr",
     "output_type": "stream",
     "text": [
      "Processing events: 100%|██████████| 4329085/4329085 [00:23<00:00, 182364.45it/s]\n"
     ]
    },
    {
     "name": "stdout",
     "output_type": "stream",
     "text": [
      "Coroheart_Targets_event.csv 文件已保存到 output/Coroheart_Targets_event.csv\n"
     ]
    }
   ],
   "source": [
    "import pandas as pd\n",
    "from tqdm import tqdm\n",
    "\n",
    "# 读取 Coroheart_Targets_Tag.csv 文件\n",
    "targets_tag = pd.read_csv('output/Coroheart_Targets_Tag.csv')\n",
    "\n",
    "# 初始化进度条\n",
    "tqdm.pandas(desc=\"Processing events\")\n",
    "\n",
    "# 删除 'itemid' 和 'gender' 列\n",
    "targets_tag.drop(columns=['itemid', 'gender'], inplace=True)\n",
    "\n",
    "# 删除 'tag' 为 'Normal' 的行\n",
    "targets_tag = targets_tag[targets_tag['tag'] != 'Normal']\n",
    "\n",
    "# 添加 'event' 列\n",
    "targets_tag['event'] = targets_tag.progress_apply(lambda row: f\"{row['label']} {row['tag']}\", axis=1)\n",
    "\n",
    "# 删除 'tag' 和 'label' 列\n",
    "targets_tag.drop(columns=['tag', 'label'], inplace=True)\n",
    "\n",
    "# 保存结果到 Coroheart_Targets_event.csv\n",
    "output_file_path_coroheart_targets_event = 'output/Coroheart_Targets_event.csv'\n",
    "targets_tag.to_csv(output_file_path_coroheart_targets_event, index=False)\n",
    "\n",
    "print(f\"Coroheart_Targets_event.csv 文件已保存到 {output_file_path_coroheart_targets_event}\")"
   ]
  },
  {
   "cell_type": "code",
   "execution_count": 4,
   "metadata": {},
   "outputs": [
    {
     "name": "stderr",
     "output_type": "stream",
     "text": [
      "Adding intime: 100%|██████████| 4329085/4329085 [00:02<00:00, 1843179.31it/s]\n"
     ]
    },
    {
     "name": "stdout",
     "output_type": "stream",
     "text": [
      "Coroheart_Targets_Time.csv 文件已保存到 output/Coroheart_Targets_Time.csv\n"
     ]
    }
   ],
   "source": [
    "import pandas as pd\n",
    "from tqdm import tqdm\n",
    "\n",
    "# 读取 Coroheart_Targets_event.csv 和 Coroheart_Age_Gender.csv 文件\n",
    "targets_event = pd.read_csv('output/Coroheart_Targets_event.csv')\n",
    "age_gender = pd.read_csv('output/Coroheart_Age_Gender.csv')\n",
    "\n",
    "# 创建一个字典以便快速查找 stay_id 对应的 intime\n",
    "intime_dict = age_gender.set_index('stay_id')['intime'].to_dict()\n",
    "\n",
    "# 初始化进度条\n",
    "tqdm.pandas(desc=\"Adding intime\")\n",
    "\n",
    "# 添加 intime 列\n",
    "targets_event['intime'] = targets_event['stay_id'].progress_apply(lambda x: intime_dict.get(x))\n",
    "\n",
    "# 保存结果到 Coroheart_Targets_Time.csv\n",
    "output_file_path_coroheart_targets_time = 'output/Coroheart_Targets_Time.csv'\n",
    "targets_event.to_csv(output_file_path_coroheart_targets_time, index=False)\n",
    "\n",
    "print(f\"Coroheart_Targets_Time.csv 文件已保存到 {output_file_path_coroheart_targets_time}\")"
   ]
  },
  {
   "cell_type": "code",
   "execution_count": 8,
   "metadata": {},
   "outputs": [
    {
     "name": "stdout",
     "output_type": "stream",
     "text": [
      "Coroheart_Targets.csv 文件已保存到 output/Coroheart_Targets.csv\n"
     ]
    }
   ],
   "source": [
    "import pandas as pd\n",
    "\n",
    "# 读取 Coroheart_Targets_Time.csv 文件\n",
    "targets_time = pd.read_csv('output/Coroheart_Targets_Time.csv')\n",
    "\n",
    "# 1. 将 stay_id 列重命名为 id\n",
    "targets_time.rename(columns={'stay_id': 'id'}, inplace=True)\n",
    "\n",
    "# 2. 计算 t 列，charttime 和 intime 转换为 datetime 格式\n",
    "targets_time['charttime'] = pd.to_datetime(targets_time['charttime'])\n",
    "targets_time['intime'] = pd.to_datetime(targets_time['intime'], format='%Y/%m/%d %H:%M')\n",
    "targets_time['t'] = (targets_time['charttime'] - targets_time['intime']).dt.total_seconds() / 3600\n",
    "\n",
    "# 3. 将 value 列重命名为 v\n",
    "targets_time.rename(columns={'value': 'v'}, inplace=True)\n",
    "\n",
    "# 4. 将 event 列重命名为 k\n",
    "targets_time.rename(columns={'event': 'k'}, inplace=True)\n",
    "\n",
    "# 选择需要的列\n",
    "final_targets = targets_time[['id', 't', 'v', 'k']]\n",
    "\n",
    "# 删除 t 值小于 0 的行\n",
    "final_targets = final_targets[final_targets['t'] >= 0]\n",
    "\n",
    "# 按照 id 从小到大排序，如果 id 相同则按照 t 从小到大排序\n",
    "final_targets.sort_values(by=['id', 't'], inplace=True)\n",
    "\n",
    "# 保留连续几行 k 值相同的第一行\n",
    "final_targets = final_targets[final_targets['k'] != final_targets['k'].shift()]\n",
    "\n",
    "# 保存结果到 Coroheart_Targets.csv\n",
    "output_file_path_coroheart_targets = 'output/Coroheart_Targets.csv'\n",
    "final_targets.to_csv(output_file_path_coroheart_targets, index=False)\n",
    "\n",
    "print(f\"Coroheart_Targets.csv 文件已保存到 {output_file_path_coroheart_targets}\")"
   ]
  },
  {
   "cell_type": "code",
   "execution_count": 9,
   "metadata": {},
   "outputs": [
    {
     "name": "stdout",
     "output_type": "stream",
     "text": [
      "id1.csv 文件已保存到 output/id1.csv\n"
     ]
    }
   ],
   "source": [
    "import pandas as pd\n",
    "\n",
    "# 读取 Coroheart_Targets.csv 文件\n",
    "targets = pd.read_csv('output/Coroheart_Targets.csv')\n",
    "\n",
    "# 提取所有的 id，并去除连续重复的 id\n",
    "unique_ids = targets['id'].loc[targets['id'].shift() != targets['id']]\n",
    "\n",
    "# 将结果转换为 DataFrame\n",
    "unique_ids_df = unique_ids.reset_index(drop=True).to_frame()\n",
    "\n",
    "# 保存结果到 id1.csv\n",
    "output_file_path_id1 = 'output/id1.csv'\n",
    "unique_ids_df.to_csv(output_file_path_id1, index=False, header=['id'])\n",
    "\n",
    "print(f\"id1.csv 文件已保存到 {output_file_path_id1}\")"
   ]
  },
  {
   "cell_type": "code",
   "execution_count": 10,
   "metadata": {},
   "outputs": [
    {
     "name": "stdout",
     "output_type": "stream",
     "text": [
      "id2.csv 文件已保存到 output/id2.csv\n"
     ]
    }
   ],
   "source": [
    "import pandas as pd\n",
    "\n",
    "# 读取 Coroheart_Death.csv 文件\n",
    "death_data = pd.read_csv('output/Coroheart_Death.csv')\n",
    "\n",
    "# 提取并重命名 stay_id 列为 id\n",
    "death_data.rename(columns={'stay_id': 'id'}, inplace=True)\n",
    "\n",
    "# 去除连续重复的 id\n",
    "unique_ids = death_data['id'].loc[death_data['id'].shift() != death_data['id']]\n",
    "\n",
    "# 将结果转换为 DataFrame\n",
    "unique_ids_df = unique_ids.to_frame()\n",
    "\n",
    "# 保存结果到 id2.csv\n",
    "output_file_path_id2 = 'output/id2.csv'\n",
    "unique_ids_df.to_csv(output_file_path_id2, index=False)\n",
    "\n",
    "print(f\"id2.csv 文件已保存到 {output_file_path_id2}\")"
   ]
  },
  {
   "cell_type": "code",
   "execution_count": 11,
   "metadata": {},
   "outputs": [
    {
     "name": "stdout",
     "output_type": "stream",
     "text": [
      "Useful_ID.csv 文件已保存到 output/Useful_ID.csv\n"
     ]
    }
   ],
   "source": [
    "import pandas as pd\n",
    "\n",
    "# 读取 id1.csv 和 id2.csv 文件\n",
    "id1 = pd.read_csv('output/id1.csv')\n",
    "id2 = pd.read_csv('output/id2.csv')\n",
    "\n",
    "# 找到公共的 id\n",
    "common_ids = pd.merge(id1, id2, on='id')\n",
    "\n",
    "# 保存结果到 Useful_ID.csv\n",
    "output_file_path_useful_id = 'output/Useful_ID.csv'\n",
    "common_ids.to_csv(output_file_path_useful_id, index=False)\n",
    "\n",
    "print(f\"Useful_ID.csv 文件已保存到 {output_file_path_useful_id}\")"
   ]
  },
  {
   "cell_type": "code",
   "execution_count": 12,
   "metadata": {},
   "outputs": [
    {
     "name": "stderr",
     "output_type": "stream",
     "text": [
      "Filtering Coroheart_Death: 100%|██████████| 12509/12509 [00:00<00:00, 96030.14it/s]\n"
     ]
    },
    {
     "name": "stdout",
     "output_type": "stream",
     "text": [
      "Goal.csv 文件已保存到 output/Goal.csv\n"
     ]
    },
    {
     "name": "stderr",
     "output_type": "stream",
     "text": [
      "Filtering Coroheart_Targets: 100%|██████████| 3860566/3860566 [00:32<00:00, 118586.20it/s]\n"
     ]
    },
    {
     "name": "stdout",
     "output_type": "stream",
     "text": [
      "Targets.csv 文件已保存到 output/Targets.csv\n"
     ]
    }
   ],
   "source": [
    "import pandas as pd\n",
    "from tqdm import tqdm\n",
    "\n",
    "# 读取 Useful_ID.csv 文件\n",
    "useful_ids = pd.read_csv('output/Useful_ID.csv')\n",
    "\n",
    "# 读取 Coroheart_Death.csv 文件\n",
    "death_data = pd.read_csv('output/Coroheart_Death.csv')\n",
    "\n",
    "# 读取 Coroheart_Targets.csv 文件\n",
    "targets_data = pd.read_csv('output/Coroheart_Targets.csv')\n",
    "\n",
    "# 初始化进度条\n",
    "tqdm.pandas(desc=\"Filtering Coroheart_Death\")\n",
    "\n",
    "# 过滤 Coroheart_Death.csv 中的行\n",
    "filtered_death_data = death_data[death_data['stay_id'].progress_apply(lambda x: x in useful_ids['id'].values)]\n",
    "\n",
    "# 保存结果到 Goal.csv\n",
    "output_file_path_goal = 'output/Goal.csv'\n",
    "filtered_death_data.to_csv(output_file_path_goal, index=False)\n",
    "\n",
    "print(f\"Goal.csv 文件已保存到 {output_file_path_goal}\")\n",
    "\n",
    "# 初始化进度条\n",
    "tqdm.pandas(desc=\"Filtering Coroheart_Targets\")\n",
    "\n",
    "# 过滤 Coroheart_Targets.csv 中的行\n",
    "filtered_targets_data = targets_data[targets_data['id'].progress_apply(lambda x: x in useful_ids['id'].values)]\n",
    "\n",
    "# 保存结果到 Targets.csv\n",
    "output_file_path_targets = 'output/Targets.csv'\n",
    "filtered_targets_data.to_csv(output_file_path_targets, index=False)\n",
    "\n",
    "print(f\"Targets.csv 文件已保存到 {output_file_path_targets}\")"
   ]
  },
  {
   "cell_type": "code",
   "execution_count": 13,
   "metadata": {},
   "outputs": [
    {
     "name": "stdout",
     "output_type": "stream",
     "text": [
      "Goals.csv 文件已保存到 output/Goals.csv\n"
     ]
    }
   ],
   "source": [
    "import pandas as pd\n",
    "\n",
    "# 读取 Goal.csv 文件\n",
    "goal_data = pd.read_csv('output/Goal.csv')\n",
    "\n",
    "# 转换 intime 和 deathtime 为 datetime 格式\n",
    "goal_data['intime'] = pd.to_datetime(goal_data['intime'], format='%Y/%m/%d %H:%M', errors='coerce')\n",
    "goal_data['deathtime'] = pd.to_datetime(goal_data['deathtime'], format='%Y/%m/%d %H:%M', errors='coerce')\n",
    "\n",
    "# 计算 t 列\n",
    "goal_data['t'] = goal_data.apply(\n",
    "    lambda row: 99999 if pd.isna(row['deathtime']) else (row['deathtime'] - row['intime']).total_seconds() / 3600,\n",
    "    axis=1\n",
    ")\n",
    "\n",
    "# 保存结果到 Goals.csv\n",
    "output_file_path_goals = 'output/Goals.csv'\n",
    "goal_data.to_csv(output_file_path_goals, index=False)\n",
    "\n",
    "print(f\"Goals.csv 文件已保存到 {output_file_path_goals}\")"
   ]
  },
  {
   "cell_type": "code",
   "execution_count": 2,
   "metadata": {},
   "outputs": [
    {
     "name": "stderr",
     "output_type": "stream",
     "text": [
      "Processing Goals: 100%|██████████| 12509/12509 [00:00<00:00, 1510306.82it/s]"
     ]
    },
    {
     "name": "stdout",
     "output_type": "stream",
     "text": [
      "Coroheart_Goal.csv 文件已保存到 output/Coroheart_Goal.csv\n"
     ]
    },
    {
     "name": "stderr",
     "output_type": "stream",
     "text": [
      "\n"
     ]
    }
   ],
   "source": [
    "import pandas as pd\n",
    "from tqdm import tqdm\n",
    "\n",
    "# 读取 Goals.csv 文件\n",
    "goals_data = pd.read_csv('output/Goals.csv')\n",
    "\n",
    "# 初始化进度条\n",
    "tqdm.pandas(desc=\"Processing Goals\")\n",
    "\n",
    "# 1. 将 stay_id 列重命名为 id\n",
    "goals_data.rename(columns={'stay_id': 'id'}, inplace=True)\n",
    "\n",
    "# 2. 删除 deathtime, intime, death_flag 列\n",
    "goals_data.drop(columns=['deathtime', 'intime', 'death_flag'], inplace=True)\n",
    "\n",
    "# 3. 添加 v 列\n",
    "goals_data['v'] = goals_data['t'].progress_apply(lambda x: 'alive' if x == 99999 else 'dead')\n",
    "\n",
    "# 4. 添加 k 列\n",
    "goals_data['k'] = 'Goal event'\n",
    "\n",
    "# 保存结果到 Coroheart_Goal.csv\n",
    "output_file_path_coroheart_goal = 'output/Coroheart_Goal.csv'\n",
    "goals_data.to_csv(output_file_path_coroheart_goal, index=False)\n",
    "\n",
    "print(f\"Coroheart_Goal.csv 文件已保存到 {output_file_path_coroheart_goal}\")"
   ]
  },
  {
   "cell_type": "code",
   "execution_count": 3,
   "metadata": {},
   "outputs": [
    {
     "name": "stdout",
     "output_type": "stream",
     "text": [
      "Coroheart_Dataset.csv 文件已保存到 output/Coroheart_Dataset.csv\n"
     ]
    }
   ],
   "source": [
    "import pandas as pd\n",
    "\n",
    "# 读取 Coroheart_Goal.csv 和 Targets.csv 文件\n",
    "coroheart_goal = pd.read_csv('output/Coroheart_Goal.csv')\n",
    "targets = pd.read_csv('output/Targets.csv')\n",
    "\n",
    "# 合并两个 DataFrame\n",
    "combined_data = pd.concat([coroheart_goal, targets], ignore_index=True)\n",
    "\n",
    "# 按照 id 和 t 列排序\n",
    "combined_data.sort_values(by=['id', 't'], inplace=True)\n",
    "\n",
    "# 保存结果到 Combined.csv\n",
    "output_file_path_combined = 'output/Coroheart_Dataset.csv'\n",
    "combined_data.to_csv(output_file_path_combined, index=False)\n",
    "\n",
    "print(f\"Coroheart_Dataset.csv 文件已保存到 {output_file_path_combined}\")"
   ]
  },
  {
   "cell_type": "code",
   "execution_count": 6,
   "metadata": {},
   "outputs": [
    {
     "name": "stderr",
     "output_type": "stream",
     "text": [
      "Processing sequences: 100%|██████████| 3596436/3596436 [01:40<00:00, 35702.20it/s]\n"
     ]
    },
    {
     "name": "stdout",
     "output_type": "stream",
     "text": [
      "总共有 12509 个序列\n"
     ]
    },
    {
     "data": {
      "image/png": "[encoded data removed]",
      "text/plain": [
       "<Figure size 1200x600 with 1 Axes>"
      ]
     },
     "metadata": {},
     "output_type": "display_data"
    }
   ],
   "source": [
    "import pandas as pd\n",
    "import matplotlib.pyplot as plt\n",
    "from tqdm import tqdm\n",
    "\n",
    "# 读取 Coroheart_Dataset.csv 文件\n",
    "dataset = pd.read_csv('output/Coroheart_Dataset.csv')\n",
    "\n",
    "# 初始化序列列表和计数器\n",
    "sequences = []\n",
    "current_sequence = []\n",
    "\n",
    "# 遍历数据，识别序列\n",
    "for index, row in tqdm(dataset.iterrows(), total=dataset.shape[0], desc=\"Processing sequences\"):\n",
    "    if row['k'] == 'Goal event':\n",
    "        if current_sequence:  # 如果当前序列不为空，保存当前序列的长度\n",
    "            sequences.append(len(current_sequence))\n",
    "            current_sequence = []  # 重置当前序列\n",
    "    else:\n",
    "        current_sequence.append(row)  # 添加到当前序列\n",
    "\n",
    "# 处理最后一个序列（如果存在）\n",
    "if current_sequence:\n",
    "    sequences.append(len(current_sequence))\n",
    "\n",
    "# 打印序列数量\n",
    "print(f\"总共有 {len(sequences)} 个序列\")\n",
    "\n",
    "# 画直方图时过滤掉长度大于 1000 的序列\n",
    "filtered_sequences = [length for length in sequences if length <= 1000]\n",
    "\n",
    "# 绘制直方图\n",
    "plt.figure(figsize=(12, 6))\n",
    "plt.hist(filtered_sequences, bins=range(1, 1001, 10), edgecolor='black')  # 横距为 10\n",
    "plt.title('Distribution of Sequence Lengths (Length <= 1000)')\n",
    "plt.xlabel('Sequence Length')\n",
    "plt.ylabel('Frequency')\n",
    "plt.grid(axis='y', alpha=0.75)\n",
    "plt.show()"
   ]
  },
  {
   "cell_type": "code",
   "execution_count": 2,
   "metadata": {},
   "outputs": [
    {
     "name": "stdout",
     "output_type": "stream",
     "text": [
      "处理后 CoroheartDatasets.csv 的序列数量: 12459\n",
      "平均序列长度: 282.45\n",
      "序列长度范围: [6, 7055]\n"
     ]
    }
   ],
   "source": [
    "import pandas as pd\n",
    "\n",
    "# 读取 Stroke_Dataset.csv 文件，跳过第一行\n",
    "stroke_data = pd.read_csv('output/Coroheart_Dataset.csv', header=None, names=['id', 't', 'v', 'k'], skiprows=1)\n",
    "\n",
    "# 将 t 列转换为浮点数\n",
    "stroke_data['t'] = stroke_data['t'].astype(float)\n",
    "\n",
    "# 初始化变量\n",
    "sequences = []\n",
    "current_sequence = []\n",
    "\n",
    "# 遍历数据，识别序列\n",
    "for index, row in stroke_data.iterrows():\n",
    "    if row['k'] == 'Goal event':\n",
    "        if current_sequence:  # 如果当前序列不为空\n",
    "            sequences.append(current_sequence)\n",
    "        current_sequence = [row]  # 开始新的序列\n",
    "    else:\n",
    "        current_sequence.append(row)  # 添加到当前序列\n",
    "\n",
    "# 处理最后一个序列（如果存在）\n",
    "if current_sequence:\n",
    "    sequences.append(current_sequence)\n",
    "\n",
    "# 过滤掉时间跨度超过 14*24 小时的序列和长度小于2的序列\n",
    "filtered_sequences = []\n",
    "for seq in sequences:\n",
    "    if len(seq) >= 2 and (seq[-1]['t'] - seq[0]['t'] <= 14 * 24):\n",
    "        filtered_sequences.append(seq)\n",
    "\n",
    "# 将过滤后的序列展平为 DataFrame\n",
    "filtered_data = pd.DataFrame([item for sublist in filtered_sequences for item in sublist])\n",
    "\n",
    "# 保存结果到 StrokeDatasets.csv\n",
    "output_file_path = 'output/CoroheartDatasets.csv'\n",
    "filtered_data.to_csv(output_file_path, index=False, header=False)\n",
    "\n",
    "# 计算序列统计信息\n",
    "sequence_lengths = [len(seq) for seq in filtered_sequences]\n",
    "num_sequences = len(filtered_sequences)\n",
    "average_length = sum(sequence_lengths) / num_sequences if num_sequences > 0 else 0\n",
    "min_length = min(sequence_lengths) if sequence_lengths else 0\n",
    "max_length = max(sequence_lengths) if sequence_lengths else 0\n",
    "\n",
    "# 打印结果\n",
    "print(f\"处理后 CoroheartDatasets.csv 的序列数量: {num_sequences}\")\n",
    "print(f\"平均序列长度: {average_length:.2f}\")\n",
    "print(f\"序列长度范围: [{min_length}, {max_length}]\")"
   ]
  },
  {
   "cell_type": "code",
   "execution_count": 4,
   "metadata": {},
   "outputs": [
    {
     "name": "stdout",
     "output_type": "stream",
     "text": [
      "在 CoroheartDatasets.csv 中所有的事件类型为: ['Heart Rate High' 'Respiratory Rate High' 'Temperature Fahrenheit Low'\n",
      " 'Albumin Low' 'C Reactive Protein High' 'Hemoglobin Low' 'AST High'\n",
      " 'LDH High' 'BUN High' 'Calcium non-ionized High' 'Potassium High'\n",
      " 'White Blood Cells High' 'Respiratory Rate Low'\n",
      " 'Temperature Fahrenheit High' 'Creatinine High' 'Glucose High' 'CK Low'\n",
      " 'O2 saturation pulseoxymetry Low' 'ALT High' 'Sodium High'\n",
      " 'Anion gap High' 'Potassium Low' 'Glucose Low' 'Sodium Low'\n",
      " 'Heart Rate Low' 'Brain Natiuretic Peptide High' 'Platelet Count Low'\n",
      " 'CK High' 'Lactic Acid High' 'Arterial Blood Pressure diastolic Low'\n",
      " 'Arterial Blood Pressure mean Low'\n",
      " 'Arterial Blood Pressure systolic High'\n",
      " 'Arterial Blood Pressure systolic Low'\n",
      " 'Arterial Blood Pressure diastolic High' 'Hematocrit Low'\n",
      " 'Arterial Blood Pressure mean High' 'INR High' 'CK-MB fraction High'\n",
      " 'Creatinine Low' 'Platelet Count High' 'White Blood Cells Low'\n",
      " 'Anion gap Low' 'BUN Low' 'AST Low' 'ALT Low' 'Total Bilirubin High'\n",
      " 'LDH Low' 'Calcium non-ionized Low' 'Cholesterol High' 'Hemoglobin High'\n",
      " 'Lactic Acid Low' 'INR Low' 'O2 saturation pulseoxymetry High'\n",
      " 'Hematocrit High' 'Albumin High' 'Total Bilirubin Low']\n",
      "在 CoroheartDatasets.csv 中事件类型数量为: 56\n"
     ]
    }
   ],
   "source": [
    "import pandas as pd\n",
    "\n",
    "# 读取 StrokeDatasets.csv 文件\n",
    "stroke_datasets = pd.read_csv('output/CoroheartDatasets.csv')\n",
    "\n",
    "# 过滤掉 k 值为 Middle_to_Sever 的数据\n",
    "filtered_datasets = stroke_datasets[stroke_datasets['k'] != 'Goal event']\n",
    "\n",
    "# 统计不同的 k 值数量\n",
    "unique_k_count = filtered_datasets['k'].nunique()\n",
    "\n",
    "# 打印所有的 k 值\n",
    "print(\"在 CoroheartDatasets.csv 中所有的事件类型为:\", filtered_datasets['k'].unique())\n",
    "\n",
    "# 打印结果\n",
    "print(f\"在 CoroheartDatasets.csv 中事件类型数量为: {unique_k_count}\")"
   ]
  },
  {
   "cell_type": "code",
   "execution_count": 1,
   "metadata": {},
   "outputs": [
    {
     "name": "stderr",
     "output_type": "stream",
     "text": [
      "d:\\Anaconda\\lib\\site-packages\\pandas\\core\\computation\\expressions.py:21: UserWarning: Pandas requires version '2.8.4' or newer of 'numexpr' (version '2.8.3' currently installed).\n",
      "  from pandas.core.computation.check import NUMEXPR_INSTALLED\n",
      "d:\\Anaconda\\lib\\site-packages\\pandas\\core\\arrays\\masked.py:60: UserWarning: Pandas requires version '1.3.6' or newer of 'bottleneck' (version '1.3.5' currently installed).\n",
      "  from pandas.core import (\n"
     ]
    },
    {
     "name": "stdout",
     "output_type": "stream",
     "text": [
      "                                 body_pred  index\n",
      "0                          Heart Rate High      0\n",
      "1                    Respiratory Rate High      1\n",
      "2               Temperature Fahrenheit Low      2\n",
      "3                              Albumin Low      3\n",
      "4                  C Reactive Protein High      4\n",
      "5                           Hemoglobin Low      5\n",
      "6                                 AST High      6\n",
      "7                                 LDH High      7\n",
      "8                                 BUN High      8\n",
      "9                 Calcium non-ionized High      9\n",
      "10                          Potassium High     10\n",
      "11                  White Blood Cells High     11\n",
      "12                    Respiratory Rate Low     12\n",
      "13             Temperature Fahrenheit High     13\n",
      "14                         Creatinine High     14\n",
      "15                            Glucose High     15\n",
      "16                                  CK Low     16\n",
      "17         O2 saturation pulseoxymetry Low     17\n",
      "18                                ALT High     18\n",
      "19                             Sodium High     19\n",
      "20                          Anion gap High     20\n",
      "21                           Potassium Low     21\n",
      "22                             Glucose Low     22\n",
      "23                              Sodium Low     23\n",
      "24                          Heart Rate Low     24\n",
      "25           Brain Natiuretic Peptide High     25\n",
      "26                      Platelet Count Low     26\n",
      "27                                 CK High     27\n",
      "28                        Lactic Acid High     28\n",
      "29   Arterial Blood Pressure diastolic Low     29\n",
      "30        Arterial Blood Pressure mean Low     30\n",
      "31   Arterial Blood Pressure systolic High     31\n",
      "32    Arterial Blood Pressure systolic Low     32\n",
      "33  Arterial Blood Pressure diastolic High     33\n",
      "34                          Hematocrit Low     34\n",
      "35       Arterial Blood Pressure mean High     35\n",
      "36                                INR High     36\n",
      "37                     CK-MB fraction High     37\n",
      "38                          Creatinine Low     38\n",
      "39                     Platelet Count High     39\n",
      "40                   White Blood Cells Low     40\n",
      "41                           Anion gap Low     41\n",
      "42                                 BUN Low     42\n",
      "43                                 AST Low     43\n",
      "44                                 ALT Low     44\n",
      "45                    Total Bilirubin High     45\n",
      "46                                 LDH Low     46\n",
      "47                 Calcium non-ionized Low     47\n",
      "48                        Cholesterol High     48\n",
      "49                         Hemoglobin High     49\n",
      "50                         Lactic Acid Low     50\n",
      "51                                 INR Low     51\n",
      "52        O2 saturation pulseoxymetry High     52\n",
      "53                         Hematocrit High     53\n",
      "54                            Albumin High     54\n",
      "55                     Total Bilirubin Low     55\n"
     ]
    }
   ],
   "source": [
    "import pandas as pd\n",
    "\n",
    "df = pd.read_csv('./output/CoroheartDatasets.csv')\n",
    "\n",
    "# 提取所有不同的k值，并跳过值为Goal event的项\n",
    "unique_k_values = df['k'].unique()\n",
    "\n",
    "unique_k_values = [k for k in unique_k_values if k != 'Goal event']\n",
    "\n",
    "result_df = pd.DataFrame({\n",
    "    'body_pred': unique_k_values,\n",
    "    'index': range(len(unique_k_values))\n",
    "})\n",
    "\n",
    "result_df.to_csv('Coroheart_Body_Pred.csv', index=False)\n",
    "print(result_df)\n"
   ]
  },
  {
   "cell_type": "code",
   "execution_count": 2,
   "metadata": {},
   "outputs": [
    {
     "name": "stdout",
     "output_type": "stream",
     "text": [
      "CoroheartTrain.csv 和 CoroheartTest.csv 已保存。\n"
     ]
    }
   ],
   "source": [
    "import pandas as pd\n",
    "\n",
    "# 读取 CoroheartDatasets.csv 文件\n",
    "stroke_data = pd.read_csv('output/CoroheartDatasets.csv')\n",
    "\n",
    "# 提取唯一的 id\n",
    "unique_ids = stroke_data['id'].unique()\n",
    "\n",
    "# 计算分割点\n",
    "split_index = int(len(unique_ids) * 0.8)\n",
    "\n",
    "# 分割 id 为 ids1 和 ids2\n",
    "ids1 = unique_ids[:split_index]\n",
    "ids2 = unique_ids[split_index:]\n",
    "\n",
    "# 根据 ids1 和 ids2 过滤数据\n",
    "stroke_train = stroke_data[stroke_data['id'].isin(ids1)]\n",
    "stroke_test = stroke_data[stroke_data['id'].isin(ids2)]\n",
    "\n",
    "# 保存结果到 StrokeTrain.csv 和 StrokeTest.csv\n",
    "stroke_train.to_csv('CoroheartTrain.csv', index=False)\n",
    "stroke_test.to_csv('CoroheartTest.csv', index=False)\n",
    "\n",
    "print(f\"CoroheartTrain.csv 和 CoroheartTest.csv 已保存。\")"
   ]
  },
  {
   "cell_type": "code",
   "execution_count": 3,
   "metadata": {},
   "outputs": [],
   "source": [
    "import pandas as pd\n",
    "\n",
    "test_df = pd.read_csv('CoroheartTest.csv')\n",
    "train_df = pd.read_csv('CoroheartTrain.csv')\n",
    "body_pred_df = pd.read_csv('Coroheart_Body_Pred.csv')\n",
    "\n",
    "# 创建一个字典用于查找 body_pred 对应的 index\n",
    "body_pred_to_index = body_pred_df.set_index('body_pred')['index'].to_dict()\n",
    "\n",
    "# 定义一个函数来查找 index\n",
    "def find_index(row):\n",
    "    return body_pred_to_index.get(row['k'], None)\n",
    "\n",
    "# 在 test 和 train 数据集中添加 index 列\n",
    "test_df['index'] = test_df.apply(find_index, axis=1)\n",
    "train_df['index'] = train_df.apply(find_index, axis=1)\n",
    "\n",
    "test_df.to_csv('CoroheartTestIndex.csv', index=False)\n",
    "train_df.to_csv('CoroheartTrainIndex.csv', index=False)"
   ]
  },
  {
   "cell_type": "code",
   "execution_count": 4,
   "metadata": {},
   "outputs": [
    {
     "name": "stdout",
     "output_type": "stream",
     "text": [
      "Test file null rows count: 0\n",
      "Train file null rows count: 0\n"
     ]
    }
   ],
   "source": [
    "# 此处检查一下，是否存在 k 值不为 '1/2transfer3' 且 index 为 null 的行\n",
    "test_index_df = pd.read_csv('CoroheartTestIndex.csv')\n",
    "train_index_df = pd.read_csv('CoroheartTrainIndex.csv')\n",
    "\n",
    "# 筛选出 k 值不为 '1/2transfer3' 且 index 为 null 的行\n",
    "test_null_rows = test_index_df[(test_index_df['k'] != 'Goal event') & (test_index_df['index'].isnull())]\n",
    "train_null_rows = train_index_df[(train_index_df['k'] != 'Goal event') & (train_index_df['index'].isnull())]\n",
    "\n",
    "print(f\"Test file null rows count: {len(test_null_rows)}\")\n",
    "print(f\"Train file null rows count: {len(train_null_rows)}\")"
   ]
  },
  {
   "cell_type": "code",
   "execution_count": 3,
   "metadata": {},
   "outputs": [
    {
     "name": "stdout",
     "output_type": "stream",
     "text": [
      "CoroheartTestIndex.csv 数据集总共有 367 组\n",
      "前两个结果: [{'id': 37967322, 'body_predicates_time': [10000000000.0, 351.9833333333333, 352.7333333333333, 265.5, 10000000000.0, 350.6666666666667, 10000000000.0, 121.55, 265.5, 265.5, 216.46666666666667, 265.5, 352.7333333333333, 221.7333333333333, 265.5, 265.5, 10000000000.0, 276.7333333333333, 10000000000.0, 10000000000.0, 71.31666666666666, 232.88333333333333, 10000000000.0, 265.5, 351.9833333333333, 10000000000.0, 145.31666666666666, 10000000000.0, 10000000000.0, 273.7333333333333, 270.7333333333333, 273.7333333333333, 244.7333333333333, 227.7333333333333, 350.6666666666667, 227.7333333333333, 48.2, 10000000000.0, 10000000000.0, 10000000000.0, 10000000000.0, 156.55, 10000000000.0, 10000000000.0, 265.5, 10000000000.0, 10000000000.0, 10000000000.0, 10000000000.0, 10000000000.0, 10000000000.0, 10000000000.0, 10000000000.0, 10000000000.0, 10000000000.0, 10000000000.0], 'head_predicate_time': [871.6833333333333]}, {'id': 37970920, 'body_predicates_time': [349.7333333333333, 359.2333333333333, 79.73333333333333, 223.1833333333333, 10000000000.0, 345.8, 318.93333333333334, 318.93333333333334, 345.8, 345.8, 29.816666666666663, 345.8, 359.85, 327.7333333333333, 345.8, 345.8, 10000000000.0, 359.7333333333333, 223.1833333333333, 10000000000.0, 29.816666666666663, 249.9, 10000000000.0, 345.8, 359.85, 113.51666666666668, 345.8, 10000000000.0, 327.7, 359.4, 359.85, 358.9, 359.4, 307.31666666666666, 18.83333333333333, 111.46666666666668, 10000000000.0, 10000000000.0, 176.25, 10000000000.0, 200.45, 10000000000.0, 10000000000.0, 10000000000.0, 10000000000.0, 151.26666666666668, 10000000000.0, 10000000000.0, 10000000000.0, 10000000000.0, 10000000000.0, 77.66666666666667, 10000000000.0, 10000000000.0, 10000000000.0, 10000000000.0], 'head_predicate_time': [359.8666666666667]}]\n",
      "CoroheartTrainIndex.csv 数据集总共有 1374 组\n",
      "前两个结果: [{'id': 30008792, 'body_predicates_time': [127.38333333333334, 127.43333333333334, 10000000000.0, 14.966666666666669, 10000000000.0, 108.4, 14.966666666666669, 10000000000.0, 108.4, 108.4, 10000000000.0, 38.98333333333333, 127.46666666666668, 126.06666666666666, 108.4, 108.4, 108.4, 127.45, 10000000000.0, 10000000000.0, 38.98333333333333, 10000000000.0, 10000000000.0, 10000000000.0, 127.46666666666668, 10000000000.0, 10000000000.0, 10000000000.0, 10000000000.0, 10000000000.0, 127.06666666666666, 10000000000.0, 10000000000.0, 10000000000.0, 10000000000.0, 10000000000.0, 60.46666666666667, 10000000000.0, 10000000000.0, 10000000000.0, 10000000000.0, 10000000000.0, 10000000000.0, 10000000000.0, 10000000000.0, 10000000000.0, 10000000000.0, 10000000000.0, 10000000000.0, 10000000000.0, 10000000000.0, 10000000000.0, 10000000000.0, 10000000000.0, 10000000000.0, 10000000000.0], 'head_predicate_time': [127.75]}, {'id': 30020923, 'body_predicates_time': [10000000000.0, 60.63333333333333, 45.88333333333333, 10000000000.0, 10000000000.0, 49.28333333333333, 49.28333333333333, 107.76666666666668, 107.76666666666668, 107.76666666666668, 10000000000.0, 25.166666666666668, 55.63333333333333, 10000000000.0, 10000000000.0, 107.76666666666668, 10000000000.0, 42.63333333333333, 3.083333333333333, 107.76666666666668, 3.083333333333333, 107.76666666666668, 10000000000.0, 10000000000.0, 59.63333333333333, 10000000000.0, 49.28333333333333, 10000000000.0, 10000000000.0, 10000000000.0, 10000000000.0, 10000000000.0, 10000000000.0, 10000000000.0, 10000000000.0, 10000000000.0, 33.28333333333333, 10000000000.0, 10000000000.0, 10000000000.0, 10000000000.0, 10000000000.0, 10000000000.0, 10000000000.0, 10000000000.0, 10000000000.0, 10000000000.0, 10000000000.0, 10000000000.0, 10000000000.0, 10000000000.0, 10000000000.0, 10000000000.0, 10000000000.0, 10000000000.0, 10000000000.0], 'head_predicate_time': [167.65]}]\n"
     ]
    }
   ],
   "source": [
    "import numpy as np\n",
    "import pandas as pd\n",
    "\n",
    "# 定义一个非常大的数，如果一个谓词对应的事件没有发生，则用一个很大的数来表示\n",
    "large_number = 1e10\n",
    "\n",
    "def process_dataframe(file_path, output_path):\n",
    "    df = pd.read_csv(file_path)\n",
    "    \n",
    "    result = []\n",
    "    group = []\n",
    "    for _, row in df.iterrows():\n",
    "        if row['k'] == 'Goal event':\n",
    "            # 如果这一组的k值为Goal event的那一行的t值为99999，则删掉这一组\n",
    "            if row['t'] == 99999.0:\n",
    "                group = []\n",
    "                continue\n",
    "            # 处理当前组\n",
    "            if group:\n",
    "                group_id = group[0]['id']\n",
    "                # 初始化 body_predicates_time 数组\n",
    "                body_predicates_time = [large_number] * 56\n",
    "                # 填充 body_predicates_time 数组\n",
    "                for item in group:\n",
    "                    index = int(item['index'])\n",
    "                    body_predicates_time[index] = item['t']\n",
    "                # If body_predicates_time is all large_number, skip this group\n",
    "                if all(time == large_number for time in body_predicates_time):\n",
    "                    continue\n",
    "                # 获取 head_predicate_time\n",
    "                head_predicate_time = [row['t']]\n",
    "                # 添加到结果\n",
    "                result.append({\n",
    "                    'id': group_id,\n",
    "                    'body_predicates_time': body_predicates_time,\n",
    "                    'head_predicate_time': head_predicate_time\n",
    "                })\n",
    "            group = []\n",
    "        else:\n",
    "            group.append(row)\n",
    "    \n",
    "    np.save(output_path, result)\n",
    "    # 输出分组数\n",
    "    print(f\"{file_path} 数据集总共有 {len(result)} 组\")\n",
    "    # 打印前两个结果\n",
    "    print(f\"前两个结果: {result[:2]}\")\n",
    "\n",
    "# 处理测试集和训练集\n",
    "process_dataframe('CoroheartTestIndex.csv', 'CoroheartTestData.npy')\n",
    "process_dataframe('CoroheartTrainIndex.csv', 'CoroheartTrainData.npy')\n"
   ]
  },
  {
   "cell_type": "code",
   "execution_count": 1,
   "metadata": {},
   "outputs": [
    {
     "name": "stdout",
     "output_type": "stream",
     "text": [
      "CoroheartTrain.npy 中的组数: 947\n",
      "CoroheartTest.npy 中的组数: 269\n",
      "CoroheartTrain.npy 前两个组: [{'id': 30008792, 'body_predicates_time': [127.38333333333334, 127.43333333333334, 10000000000.0, 14.966666666666669, 10000000000.0, 108.4, 14.966666666666669, 10000000000.0, 108.4, 108.4, 10000000000.0, 38.98333333333333, 127.46666666666668, 126.06666666666666, 108.4, 108.4, 108.4, 127.45, 10000000000.0, 10000000000.0, 38.98333333333333, 10000000000.0, 10000000000.0, 10000000000.0, 127.46666666666668, 10000000000.0, 10000000000.0, 10000000000.0, 10000000000.0, 10000000000.0, 127.06666666666666, 10000000000.0, 10000000000.0, 10000000000.0, 10000000000.0, 10000000000.0, 60.46666666666667, 10000000000.0, 10000000000.0, 10000000000.0, 10000000000.0, 10000000000.0, 10000000000.0, 10000000000.0, 10000000000.0, 10000000000.0, 10000000000.0, 10000000000.0, 10000000000.0, 10000000000.0, 10000000000.0, 10000000000.0, 10000000000.0, 10000000000.0, 10000000000.0, 10000000000.0], 'head_predicate_time': [127.75]}, {'id': 30023732, 'body_predicates_time': [293.15, 293.15, 10000000000.0, 111.98333333333332, 27.366666666666667, 257.93333333333334, 111.98333333333332, 10000000000.0, 257.93333333333334, 257.93333333333334, 1.65, 257.93333333333334, 264.15, 271.15, 257.93333333333334, 257.93333333333334, 10000000000.0, 293.15, 10000000000.0, 137.75, 10000000000.0, 55.66666666666666, 10000000000.0, 10000000000.0, 10000000000.0, 1.65, 10000000000.0, 10000000000.0, 24.73333333333333, 10000000000.0, 10000000000.0, 10000000000.0, 10000000000.0, 10000000000.0, 10000000000.0, 10000000000.0, 10000000000.0, 10000000000.0, 10000000000.0, 10000000000.0, 10000000000.0, 10000000000.0, 10000000000.0, 10000000000.0, 10000000000.0, 10000000000.0, 10000000000.0, 10000000000.0, 10000000000.0, 10000000000.0, 10000000000.0, 10000000000.0, 10000000000.0, 10000000000.0, 10000000000.0, 10000000000.0], 'head_predicate_time': [302.9833333333333]}]\n",
      "CoroheartTest.npy 前两个组: [{'id': 37970920, 'body_predicates_time': [349.7333333333333, 359.2333333333333, 79.73333333333333, 223.1833333333333, 10000000000.0, 345.8, 318.93333333333334, 318.93333333333334, 345.8, 345.8, 29.816666666666663, 345.8, 359.85, 327.7333333333333, 345.8, 345.8, 10000000000.0, 359.7333333333333, 223.1833333333333, 10000000000.0, 29.816666666666663, 249.9, 10000000000.0, 345.8, 359.85, 113.51666666666668, 345.8, 10000000000.0, 327.7, 359.4, 359.85, 358.9, 359.4, 307.31666666666666, 18.83333333333333, 111.46666666666668, 10000000000.0, 10000000000.0, 176.25, 10000000000.0, 200.45, 10000000000.0, 10000000000.0, 10000000000.0, 10000000000.0, 151.26666666666668, 10000000000.0, 10000000000.0, 10000000000.0, 10000000000.0, 10000000000.0, 77.66666666666667, 10000000000.0, 10000000000.0, 10000000000.0, 10000000000.0], 'head_predicate_time': [359.8666666666667]}, {'id': 37972108, 'body_predicates_time': [62.0, 62.0, 10000000000.0, 48.016666666666666, 10000000000.0, 62.16666666666666, 48.016666666666666, 10000000000.0, 10000000000.0, 62.16666666666666, 62.16666666666666, 62.16666666666666, 26.166666666666668, 52.16666666666666, 10000000000.0, 62.16666666666666, 10000000000.0, 62.21666666666667, 10000000000.0, 10000000000.0, 62.16666666666666, 10000000000.0, 10000000000.0, 10000000000.0, 10000000000.0, 10000000000.0, 10000000000.0, 10000000000.0, 62.2, 40.16666666666666, 46.16666666666666, 43.16666666666666, 37.41666666666666, 43.16666666666666, 14.4, 43.16666666666666, 10000000000.0, 48.016666666666666, 59.16666666666666, 3.2666666666666666, 10000000000.0, 10000000000.0, 10000000000.0, 10000000000.0, 10000000000.0, 48.016666666666666, 10000000000.0, 10000000000.0, 10000000000.0, 10000000000.0, 10000000000.0, 10000000000.0, 10000000000.0, 10000000000.0, 10000000000.0, 10000000000.0], 'head_predicate_time': [62.36666666666667]}]\n"
     ]
    }
   ],
   "source": [
    "import numpy as np\n",
    "\n",
    "# 加载 .npy 文件\n",
    "train_data = np.load('CoroheartTrainData.npy', allow_pickle=True)\n",
    "test_data = np.load('CoroheartTestData.npy', allow_pickle=True)\n",
    "\n",
    "def filter_data(data):\n",
    "    filtered_data = []\n",
    "    for group in data:\n",
    "        # 假设每组数据是一个字典，包含 'id', 'body_predicates_time', 'head_predicate_time'\n",
    "        body_predicates_time = group['body_predicates_time']\n",
    "        head_predicate_time = float(group['head_predicate_time'][0])  # 将 head_predicate_time 转换为数字\n",
    "        \n",
    "        # 找到 body_predicates_time 中的最大值，且不等于 10000000000.0\n",
    "        max_body_time = max(float(time) for time in body_predicates_time if float(time) != 10000000000.0)  # 将 body_predicates_time 中的值转换为数字\n",
    "        \n",
    "        # 检查条件\n",
    "        if max_body_time + 24 >= head_predicate_time:\n",
    "            filtered_data.append(group)\n",
    "    \n",
    "    return filtered_data\n",
    "\n",
    "# 过滤数据\n",
    "filtered_train_data = filter_data(train_data)\n",
    "filtered_test_data = filter_data(test_data)\n",
    "\n",
    "# 保存过滤后的数据\n",
    "np.save('CoroheartTrain.npy', filtered_train_data)\n",
    "np.save('CoroheartTest.npy', filtered_test_data)\n",
    "\n",
    "# 打印结果\n",
    "print(f\"CoroheartTrain.npy 中的组数: {len(filtered_train_data)}\")\n",
    "print(f\"CoroheartTest.npy 中的组数: {len(filtered_test_data)}\")\n",
    "\n",
    "# 打印前两个组\n",
    "print(\"CoroheartTrain.npy 前两个组:\", filtered_train_data[:2])\n",
    "print(\"CoroheartTest.npy 前两个组:\", filtered_test_data[:2])"
   ]
  }
 ],
 "metadata": {
  "kernelspec": {
   "display_name": "base",
   "language": "python",
   "name": "python3"
  },
  "language_info": {
   "codemirror_mode": {
    "name": "ipython",
    "version": 3
   },
   "file_extension": ".py",
   "mimetype": "text/x-python",
   "name": "python",
   "nbconvert_exporter": "python",
   "pygments_lexer": "ipython3",
   "version": "3.9.13"
  }
 },
 "nbformat": 4,
 "nbformat_minor": 2
}
